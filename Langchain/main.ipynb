{
 "cells": [
  {
   "cell_type": "code",
   "execution_count": 1,
   "metadata": {},
   "outputs": [
    {
     "name": "stdout",
     "output_type": "stream",
     "text": [
      "Defaulting to user installation because normal site-packages is not writeable\n",
      "Requirement already satisfied: langchain in /home/user1/.local/lib/python3.10/site-packages (0.1.16)\n",
      "Requirement already satisfied: langchain_experimental in /home/user1/.local/lib/python3.10/site-packages (0.0.57)\n",
      "Requirement already satisfied: openai in /home/user1/.local/lib/python3.10/site-packages (1.23.2)\n",
      "Collecting openai\n",
      "  Using cached openai-1.23.6-py3-none-any.whl (311 kB)\n",
      "Requirement already satisfied: tenacity<9.0.0,>=8.1.0 in /home/user1/.local/lib/python3.10/site-packages (from langchain) (8.2.3)\n",
      "Requirement already satisfied: PyYAML>=5.3 in /usr/lib/python3/dist-packages (from langchain) (5.4.1)\n",
      "Requirement already satisfied: async-timeout<5.0.0,>=4.0.0 in /home/user1/.local/lib/python3.10/site-packages (from langchain) (4.0.3)\n",
      "Requirement already satisfied: requests<3,>=2 in /usr/lib/python3/dist-packages (from langchain) (2.25.1)\n",
      "Requirement already satisfied: dataclasses-json<0.7,>=0.5.7 in /home/user1/.local/lib/python3.10/site-packages (from langchain) (0.6.4)\n",
      "Requirement already satisfied: SQLAlchemy<3,>=1.4 in /home/user1/.local/lib/python3.10/site-packages (from langchain) (2.0.29)\n",
      "Requirement already satisfied: jsonpatch<2.0,>=1.33 in /home/user1/.local/lib/python3.10/site-packages (from langchain) (1.33)\n",
      "Requirement already satisfied: pydantic<3,>=1 in /home/user1/.local/lib/python3.10/site-packages (from langchain) (1.10.9)\n",
      "Requirement already satisfied: langchain-core<0.2.0,>=0.1.42 in /home/user1/.local/lib/python3.10/site-packages (from langchain) (0.1.43)\n",
      "Requirement already satisfied: langchain-text-splitters<0.1,>=0.0.1 in /home/user1/.local/lib/python3.10/site-packages (from langchain) (0.0.1)\n",
      "Requirement already satisfied: langsmith<0.2.0,>=0.1.17 in /home/user1/.local/lib/python3.10/site-packages (from langchain) (0.1.48)\n",
      "Requirement already satisfied: numpy<2,>=1 in /home/user1/.local/lib/python3.10/site-packages (from langchain) (1.26.4)\n",
      "Requirement already satisfied: langchain-community<0.1,>=0.0.32 in /home/user1/.local/lib/python3.10/site-packages (from langchain) (0.0.33)\n",
      "Requirement already satisfied: aiohttp<4.0.0,>=3.8.3 in /home/user1/.local/lib/python3.10/site-packages (from langchain) (3.9.5)\n",
      "Requirement already satisfied: tqdm>4 in /home/user1/.local/lib/python3.10/site-packages (from openai) (4.66.2)\n",
      "Requirement already satisfied: httpx<1,>=0.23.0 in /home/user1/.local/lib/python3.10/site-packages (from openai) (0.23.3)\n",
      "Requirement already satisfied: sniffio in /home/user1/.local/lib/python3.10/site-packages (from openai) (1.3.1)\n",
      "Requirement already satisfied: typing-extensions<5,>=4.7 in /home/user1/.local/lib/python3.10/site-packages (from openai) (4.11.0)\n",
      "Requirement already satisfied: distro<2,>=1.7.0 in /usr/lib/python3/dist-packages (from openai) (1.7.0)\n",
      "Requirement already satisfied: anyio<5,>=3.5.0 in /home/user1/.local/lib/python3.10/site-packages (from openai) (4.3.0)\n",
      "Requirement already satisfied: aiosignal>=1.1.2 in /home/user1/.local/lib/python3.10/site-packages (from aiohttp<4.0.0,>=3.8.3->langchain) (1.3.1)\n",
      "Requirement already satisfied: yarl<2.0,>=1.0 in /home/user1/.local/lib/python3.10/site-packages (from aiohttp<4.0.0,>=3.8.3->langchain) (1.9.4)\n",
      "Requirement already satisfied: attrs>=17.3.0 in /home/user1/.local/lib/python3.10/site-packages (from aiohttp<4.0.0,>=3.8.3->langchain) (23.2.0)\n",
      "Requirement already satisfied: multidict<7.0,>=4.5 in /home/user1/.local/lib/python3.10/site-packages (from aiohttp<4.0.0,>=3.8.3->langchain) (6.0.5)\n",
      "Requirement already satisfied: frozenlist>=1.1.1 in /home/user1/.local/lib/python3.10/site-packages (from aiohttp<4.0.0,>=3.8.3->langchain) (1.4.1)\n",
      "Requirement already satisfied: idna>=2.8 in /usr/lib/python3/dist-packages (from anyio<5,>=3.5.0->openai) (3.3)\n",
      "Requirement already satisfied: exceptiongroup>=1.0.2 in /home/user1/.local/lib/python3.10/site-packages (from anyio<5,>=3.5.0->openai) (1.2.0)\n",
      "Requirement already satisfied: typing-inspect<1,>=0.4.0 in /home/user1/.local/lib/python3.10/site-packages (from dataclasses-json<0.7,>=0.5.7->langchain) (0.9.0)\n",
      "Requirement already satisfied: marshmallow<4.0.0,>=3.18.0 in /home/user1/.local/lib/python3.10/site-packages (from dataclasses-json<0.7,>=0.5.7->langchain) (3.21.1)\n",
      "Requirement already satisfied: rfc3986[idna2008]<2,>=1.3 in /home/user1/.local/lib/python3.10/site-packages (from httpx<1,>=0.23.0->openai) (1.5.0)\n",
      "Requirement already satisfied: httpcore<0.17.0,>=0.15.0 in /home/user1/.local/lib/python3.10/site-packages (from httpx<1,>=0.23.0->openai) (0.16.3)\n",
      "Requirement already satisfied: certifi in /usr/lib/python3/dist-packages (from httpx<1,>=0.23.0->openai) (2020.6.20)\n",
      "Requirement already satisfied: jsonpointer>=1.9 in /home/user1/.local/lib/python3.10/site-packages (from jsonpatch<2.0,>=1.33->langchain) (2.4)\n",
      "Requirement already satisfied: packaging<24.0,>=23.2 in /home/user1/.local/lib/python3.10/site-packages (from langchain-core<0.2.0,>=0.1.42->langchain) (23.2)\n",
      "Requirement already satisfied: orjson<4.0.0,>=3.9.14 in /home/user1/.local/lib/python3.10/site-packages (from langsmith<0.2.0,>=0.1.17->langchain) (3.10.1)\n",
      "Requirement already satisfied: greenlet!=0.4.17 in /home/user1/.local/lib/python3.10/site-packages (from SQLAlchemy<3,>=1.4->langchain) (3.0.3)\n",
      "Requirement already satisfied: h11<0.15,>=0.13 in /home/user1/.local/lib/python3.10/site-packages (from httpcore<0.17.0,>=0.15.0->httpx<1,>=0.23.0->openai) (0.14.0)\n",
      "Requirement already satisfied: mypy-extensions>=0.3.0 in /home/user1/.local/lib/python3.10/site-packages (from typing-inspect<1,>=0.4.0->dataclasses-json<0.7,>=0.5.7->langchain) (1.0.0)\n",
      "Installing collected packages: openai\n",
      "  Attempting uninstall: openai\n",
      "    Found existing installation: openai 1.23.2\n",
      "    Uninstalling openai-1.23.2:\n",
      "      Successfully uninstalled openai-1.23.2\n",
      "Successfully installed openai-1.23.6\n",
      "Note: you may need to restart the kernel to use updated packages.\n"
     ]
    }
   ],
   "source": [
    "pip install -U langchain langchain_experimental openai"
   ]
  },
  {
   "cell_type": "code",
   "execution_count": 2,
   "metadata": {},
   "outputs": [],
   "source": [
    "import os\n",
    "os.environ[\"OPENAI_API_KEY\"] = \"your_api_key\"\n"
   ]
  },
  {
   "cell_type": "code",
   "execution_count": 3,
   "metadata": {},
   "outputs": [],
   "source": [
    "from langchain.prompts import FewShotPromptTemplate, PromptTemplate\n",
    "from langchain.chat_models import ChatOpenAI\n",
    "from langchain.pydantic_v1 import BaseModel\n",
    "from langchain_experimental.tabular_synthetic_data.base import SyntheticDataGenerator\n",
    "from langchain_experimental.tabular_synthetic_data.openai import create_openai_data_generator, OPENAI_TEMPLATE\n",
    "from langchain_experimental.tabular_synthetic_data.prompts import SYNTHETIC_FEW_SHOT_SUFFIX, SYNTHETIC_FEW_SHOT_PREFIX\n"
   ]
  },
  {
   "cell_type": "code",
   "execution_count": 4,
   "metadata": {},
   "outputs": [],
   "source": [
    "class Artists(BaseModel):\n",
    "    artist_id: int\n",
    "    full_name: str\n",
    "    first_name: str\n",
    "    middle_name: str\n",
    "    last_name: str\n",
    "    nationality: str\n",
    "    style: str\n",
    "    birth: int\n",
    "    death: int"
   ]
  },
  {
   "cell_type": "code",
   "execution_count": 5,
   "metadata": {},
   "outputs": [],
   "source": [
    "examples = [\n",
    "    \n",
    "    {\"example\":\"\"\"\"artist_id: 1,full_name: Pierre-Auguste Renoir,first_name: Pierre,middle_name: Auguste,last_name: Renoir,nationality: French,style: Impressionist,birth: 1841,death: 1919\"\"\"},\n",
    "    {\"example\":\"\"\"artist_id: 2,full_name: Alexandre Cabanel,first_name: Alexandre,middle_name: ,last_name: Cabanel,nationality: French,style: Classicist,birth: 1823,death: 1889\"\"\"},\n",
    "    {\"example\":\"\"\"artist_id: 3,full_name: James Ensor,first_name: James,middle_name: ,last_name: Ensor,nationality: Belgian,style: Expressionist,birth: 1860,death: 1949\"\"\"},\n",
    "    {\"example\":\"\"\"artist_id: 4,full_name: Lemuel Francis Abbott,first_name: Lemuel,middle_name: Francis,last_name: Abbott,nationality: English,style: Portraitist,birth: 1760,death: 1803\"\"\"},\n",
    "    {\"example\":\"\"\"artist_id: 5,full_name: Mary Cassatt,first_name: Mary,middle_name: ,last_name: Cassatt,nationality: American,style: Impressionist,birth: 1844,death: 1926\"\"\"},\n",
    "    {\"example\":\"\"\"artist_id: 6,full_name: Frank Weston Benson,first_name: Frank,middle_name: Weston,last_name: Benson,nationality: American,style: Impressionist,birth: 1862,death:1951\"\"\"},\n",
    "    {\"example\":\"\"\"artist_id: 7,full_name: Jean Raoux,first_name: Jean,middle_name: ,last_name: Raoux,nationality: French,style: Rococo,birth: 1677,death:1734\"\"\"},\n",
    "    {\"example\":\"\"\"artist_id: 8,full_name: Joseph Kumar Ducreux,first_name: Joseph,middle_name: Kumar,last_name: Ducreux,nationality: French,style: Portraitist,birth: 1735,death:  1802\"\"\"},\n",
    "    {\"example\":\"\"\"artist_id: 9,full_name: Rembrandt Peale,first_name: Rembrandt,middle: ,last_name: Peale,nationality: American,style: Neoclassical,birth: 1778,death: 1860\"\"\"},\n",
    "    {\"example\":\"\"\"artist_id: 10,full_name: Vasiliy Polenov,first_name:Vasiliy,middle: ,last_name: Polenov,nationality: Russian,style: Landscape Art,birth: 1844,death: 1927\"\"\"},\n",
    "     {\"example\":\"\"\"artist_id: 11,full_name: Thomas Waterman Wood,first_name: Thomas,middle: Waterman,last_name: Wood,nationality: American,style: Colonial,birth: 1823,death: 1903\"\"\"}\n",
    "]"
   ]
  },
  {
   "cell_type": "code",
   "execution_count": 6,
   "metadata": {},
   "outputs": [],
   "source": [
    "OPENAI_TEMPLATE = PromptTemplate(input_variables=[\"example\"], template=\"{example}\")\n",
    "\n",
    "prompt_template = FewShotPromptTemplate(\n",
    "    prefix=SYNTHETIC_FEW_SHOT_PREFIX,\n",
    "    examples=examples,\n",
    "    suffix=SYNTHETIC_FEW_SHOT_SUFFIX,\n",
    "    input_variables=[\"subject\", \"extra\"],\n",
    "    example_prompt=OPENAI_TEMPLATE,\n",
    ")"
   ]
  },
  {
   "cell_type": "code",
   "execution_count": 7,
   "metadata": {},
   "outputs": [
    {
     "name": "stderr",
     "output_type": "stream",
     "text": [
      "/home/user1/.local/lib/python3.10/site-packages/langchain_core/_api/deprecation.py:117: LangChainDeprecationWarning: The class `langchain_community.chat_models.openai.ChatOpenAI` was deprecated in langchain-community 0.0.10 and will be removed in 0.2.0. An updated version of the class exists in the langchain-openai package and should be used instead. To use it run `pip install -U langchain-openai` and import as `from langchain_openai import ChatOpenAI`.\n",
      "  warn_deprecated(\n"
     ]
    }
   ],
   "source": [
    "synthetic_data_generator = create_openai_data_generator(\n",
    "    output_schema=Artists,\n",
    "    llm=ChatOpenAI(temperature=1),\n",
    "    prompt=prompt_template,\n",
    ")"
   ]
  },
  {
   "cell_type": "code",
   "execution_count": 8,
   "metadata": {},
   "outputs": [],
   "source": [
    "synthetic_results = synthetic_data_generator.generate(\n",
    "    subject=\"artists\",\n",
    "    extra=\"Embrace randomness when selecting names. If a full name comprises two strings, allocate the first and last name into their respective columns; however, if it contains three strings, distribute them across first, middle, and last name columns. ensure that the date of death column never exceed year 2023. Birth dates should exclusively span the 20th century. The artist id column should have sequentially ordered ids .\",\n",
    "    runs=10\n",
    "    )"
   ]
  },
  {
   "cell_type": "code",
   "execution_count": 9,
   "metadata": {},
   "outputs": [
    {
     "data": {
      "text/plain": [
       "list"
      ]
     },
     "execution_count": 9,
     "metadata": {},
     "output_type": "execute_result"
    }
   ],
   "source": [
    "type(synthetic_results)"
   ]
  },
  {
   "cell_type": "code",
   "execution_count": 10,
   "metadata": {},
   "outputs": [
    {
     "data": {
      "text/plain": [
       "10"
      ]
     },
     "execution_count": 10,
     "metadata": {},
     "output_type": "execute_result"
    }
   ],
   "source": [
    "len(synthetic_results)\n"
   ]
  },
  {
   "cell_type": "code",
   "execution_count": 11,
   "metadata": {},
   "outputs": [
    {
     "data": {
      "text/plain": [
       "[Artists(artist_id=1, full_name='John Smith', first_name='John', middle_name='', last_name='Smith', nationality='American', style='Abstract Art', birth=1995, death=2020),\n",
       " Artists(artist_id=12, full_name='Elizabeth Hughes', first_name='Elizabeth', middle_name='', last_name='Hughes', nationality='Australian', style='Abstract Expressionist', birth=1978, death=2017),\n",
       " Artists(artist_id=13, full_name='Alexander Burke', first_name='Alexander', middle_name='', last_name='Burke', nationality='Irish', style='Modern Art', birth=1987, death=2021),\n",
       " Artists(artist_id=14, full_name='Ella Davies', first_name='Ella', middle_name='', last_name='Davies', nationality='British', style='Surrealism', birth=1925, death=2002),\n",
       " Artists(artist_id=15, full_name='Alice Marshall', first_name='Alice', middle_name='', last_name='Marshall', nationality='British', style='Abstract Expressionist', birth=1980, death=2016),\n",
       " Artists(artist_id=16, full_name='Lena Fischer', first_name='Lena', middle_name='', last_name='Fischer', nationality='German', style='Expressionism', birth=1956, death=2020),\n",
       " Artists(artist_id=17, full_name='Isabella Ross', first_name='Isabella', middle_name='', last_name='Ross', nationality='Italian', style='Baroque', birth=1929, death=2001),\n",
       " Artists(artist_id=18, full_name='Sophia Nguyen', first_name='Sophia', middle_name='', last_name='Nguyen', nationality='Vietnamese', style='Impressionism', birth=1968, death=2021),\n",
       " Artists(artist_id=19, full_name='Mia Patel', first_name='Mia', middle_name='', last_name='Patel', nationality='Indian', style='Realism', birth=1972, death=2020),\n",
       " Artists(artist_id=20, full_name='Maksim Ivanov', first_name='Maksim', middle_name='', last_name='Ivanov', nationality='Russian', style='Realism', birth=1978, death=2022)]"
      ]
     },
     "execution_count": 11,
     "metadata": {},
     "output_type": "execute_result"
    }
   ],
   "source": [
    "synthetic_results"
   ]
  },
  {
   "cell_type": "code",
   "execution_count": 12,
   "metadata": {},
   "outputs": [
    {
     "name": "stdout",
     "output_type": "stream",
     "text": [
      "<class 'pandas.core.frame.DataFrame'>\n"
     ]
    },
    {
     "data": {
      "text/html": [
       "<div>\n",
       "<style scoped>\n",
       "    .dataframe tbody tr th:only-of-type {\n",
       "        vertical-align: middle;\n",
       "    }\n",
       "\n",
       "    .dataframe tbody tr th {\n",
       "        vertical-align: top;\n",
       "    }\n",
       "\n",
       "    .dataframe thead th {\n",
       "        text-align: right;\n",
       "    }\n",
       "</style>\n",
       "<table border=\"1\" class=\"dataframe\">\n",
       "  <thead>\n",
       "    <tr style=\"text-align: right;\">\n",
       "      <th></th>\n",
       "      <th>artist_id</th>\n",
       "      <th>full_name</th>\n",
       "      <th>first_name</th>\n",
       "      <th>middle_name</th>\n",
       "      <th>last_name</th>\n",
       "      <th>nationality</th>\n",
       "      <th>style</th>\n",
       "      <th>birth</th>\n",
       "      <th>death</th>\n",
       "    </tr>\n",
       "  </thead>\n",
       "  <tbody>\n",
       "    <tr>\n",
       "      <th>0</th>\n",
       "      <td>1</td>\n",
       "      <td>John Smith</td>\n",
       "      <td>John</td>\n",
       "      <td></td>\n",
       "      <td>Smith</td>\n",
       "      <td>American</td>\n",
       "      <td>Abstract Art</td>\n",
       "      <td>1995</td>\n",
       "      <td>2020</td>\n",
       "    </tr>\n",
       "    <tr>\n",
       "      <th>1</th>\n",
       "      <td>12</td>\n",
       "      <td>Elizabeth Hughes</td>\n",
       "      <td>Elizabeth</td>\n",
       "      <td></td>\n",
       "      <td>Hughes</td>\n",
       "      <td>Australian</td>\n",
       "      <td>Abstract Expressionist</td>\n",
       "      <td>1978</td>\n",
       "      <td>2017</td>\n",
       "    </tr>\n",
       "    <tr>\n",
       "      <th>2</th>\n",
       "      <td>13</td>\n",
       "      <td>Alexander Burke</td>\n",
       "      <td>Alexander</td>\n",
       "      <td></td>\n",
       "      <td>Burke</td>\n",
       "      <td>Irish</td>\n",
       "      <td>Modern Art</td>\n",
       "      <td>1987</td>\n",
       "      <td>2021</td>\n",
       "    </tr>\n",
       "    <tr>\n",
       "      <th>3</th>\n",
       "      <td>14</td>\n",
       "      <td>Ella Davies</td>\n",
       "      <td>Ella</td>\n",
       "      <td></td>\n",
       "      <td>Davies</td>\n",
       "      <td>British</td>\n",
       "      <td>Surrealism</td>\n",
       "      <td>1925</td>\n",
       "      <td>2002</td>\n",
       "    </tr>\n",
       "    <tr>\n",
       "      <th>4</th>\n",
       "      <td>15</td>\n",
       "      <td>Alice Marshall</td>\n",
       "      <td>Alice</td>\n",
       "      <td></td>\n",
       "      <td>Marshall</td>\n",
       "      <td>British</td>\n",
       "      <td>Abstract Expressionist</td>\n",
       "      <td>1980</td>\n",
       "      <td>2016</td>\n",
       "    </tr>\n",
       "    <tr>\n",
       "      <th>5</th>\n",
       "      <td>16</td>\n",
       "      <td>Lena Fischer</td>\n",
       "      <td>Lena</td>\n",
       "      <td></td>\n",
       "      <td>Fischer</td>\n",
       "      <td>German</td>\n",
       "      <td>Expressionism</td>\n",
       "      <td>1956</td>\n",
       "      <td>2020</td>\n",
       "    </tr>\n",
       "    <tr>\n",
       "      <th>6</th>\n",
       "      <td>17</td>\n",
       "      <td>Isabella Ross</td>\n",
       "      <td>Isabella</td>\n",
       "      <td></td>\n",
       "      <td>Ross</td>\n",
       "      <td>Italian</td>\n",
       "      <td>Baroque</td>\n",
       "      <td>1929</td>\n",
       "      <td>2001</td>\n",
       "    </tr>\n",
       "    <tr>\n",
       "      <th>7</th>\n",
       "      <td>18</td>\n",
       "      <td>Sophia Nguyen</td>\n",
       "      <td>Sophia</td>\n",
       "      <td></td>\n",
       "      <td>Nguyen</td>\n",
       "      <td>Vietnamese</td>\n",
       "      <td>Impressionism</td>\n",
       "      <td>1968</td>\n",
       "      <td>2021</td>\n",
       "    </tr>\n",
       "    <tr>\n",
       "      <th>8</th>\n",
       "      <td>19</td>\n",
       "      <td>Mia Patel</td>\n",
       "      <td>Mia</td>\n",
       "      <td></td>\n",
       "      <td>Patel</td>\n",
       "      <td>Indian</td>\n",
       "      <td>Realism</td>\n",
       "      <td>1972</td>\n",
       "      <td>2020</td>\n",
       "    </tr>\n",
       "    <tr>\n",
       "      <th>9</th>\n",
       "      <td>20</td>\n",
       "      <td>Maksim Ivanov</td>\n",
       "      <td>Maksim</td>\n",
       "      <td></td>\n",
       "      <td>Ivanov</td>\n",
       "      <td>Russian</td>\n",
       "      <td>Realism</td>\n",
       "      <td>1978</td>\n",
       "      <td>2022</td>\n",
       "    </tr>\n",
       "  </tbody>\n",
       "</table>\n",
       "</div>"
      ],
      "text/plain": [
       "   artist_id         full_name first_name middle_name last_name nationality  \\\n",
       "0          1        John Smith       John                 Smith    American   \n",
       "1         12  Elizabeth Hughes  Elizabeth                Hughes  Australian   \n",
       "2         13   Alexander Burke  Alexander                 Burke       Irish   \n",
       "3         14       Ella Davies       Ella                Davies     British   \n",
       "4         15    Alice Marshall      Alice              Marshall     British   \n",
       "5         16      Lena Fischer       Lena               Fischer      German   \n",
       "6         17     Isabella Ross   Isabella                  Ross     Italian   \n",
       "7         18     Sophia Nguyen     Sophia                Nguyen  Vietnamese   \n",
       "8         19         Mia Patel        Mia                 Patel      Indian   \n",
       "9         20     Maksim Ivanov     Maksim                Ivanov     Russian   \n",
       "\n",
       "                    style  birth  death  \n",
       "0            Abstract Art   1995   2020  \n",
       "1  Abstract Expressionist   1978   2017  \n",
       "2              Modern Art   1987   2021  \n",
       "3              Surrealism   1925   2002  \n",
       "4  Abstract Expressionist   1980   2016  \n",
       "5           Expressionism   1956   2020  \n",
       "6                 Baroque   1929   2001  \n",
       "7           Impressionism   1968   2021  \n",
       "8                 Realism   1972   2020  \n",
       "9                 Realism   1978   2022  "
      ]
     },
     "execution_count": 12,
     "metadata": {},
     "output_type": "execute_result"
    }
   ],
   "source": [
    "import pandas as pd\n",
    "\n",
    "# Create a list of dictionaries from the objects\n",
    "synthetic_data = []\n",
    "for item in synthetic_results:\n",
    "    synthetic_data.append({\n",
    "        'artist_id': item.artist_id,\n",
    "        'full_name': item.full_name,\n",
    "        'first_name': item.first_name,\n",
    "        'middle_name': item.middle_name,\n",
    "        'last_name': item.last_name,\n",
    "        'nationality': item.nationality,\n",
    "        'style': item.style,\n",
    "        'birth':item.birth,\n",
    "        'death':item.death\n",
    "    })\n",
    "\n",
    "# Create a Pandas DataFrame from the list of dictionaries\n",
    "synthetic_df = pd.DataFrame(synthetic_data)\n",
    "\n",
    "# Display the DataFrame\n",
    "print(type(synthetic_df))\n",
    "synthetic_df\n"
   ]
  },
  {
   "cell_type": "markdown",
   "metadata": {},
   "source": []
  },
  {
   "cell_type": "code",
   "execution_count": 13,
   "metadata": {},
   "outputs": [
    {
     "data": {
      "text/plain": [
       "(10, 9)"
      ]
     },
     "execution_count": 13,
     "metadata": {},
     "output_type": "execute_result"
    }
   ],
   "source": [
    "synthetic_df.shape"
   ]
  }
 ],
 "metadata": {
  "kernelspec": {
   "display_name": "Python 3",
   "language": "python",
   "name": "python3"
  },
  "language_info": {
   "codemirror_mode": {
    "name": "ipython",
    "version": 3
   },
   "file_extension": ".py",
   "mimetype": "text/x-python",
   "name": "python",
   "nbconvert_exporter": "python",
   "pygments_lexer": "ipython3",
   "version": "3.10.12"
  }
 },
 "nbformat": 4,
 "nbformat_minor": 2
}
