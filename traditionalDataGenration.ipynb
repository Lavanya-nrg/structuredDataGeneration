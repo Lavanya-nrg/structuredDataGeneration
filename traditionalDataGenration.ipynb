{
 "cells": [
  {
   "cell_type": "code",
   "execution_count": 1,
   "id": "d93de903-b8b2-4b77-8971-9ab2ac2f1fe0",
   "metadata": {
    "tags": []
   },
   "outputs": [],
   "source": [
    "from sklearn.datasets import make_classification, make_regression\n",
    "x,y=make_classification(\n",
    "    n_samples=50,\n",
    "    n_features=10,\n",
    "    n_informative=5,\n",
    "    n_classes=3,\n",
    "    n_clusters_per_class=3\n",
    ")"
   ]
  },
  {
   "cell_type": "code",
   "execution_count": 3,
   "id": "ad5c7bef-e8e2-411c-81a8-240fed9e69d0",
   "metadata": {
    "tags": []
   },
   "outputs": [
    {
     "data": {
      "text/html": [
       "<div>\n",
       "<style scoped>\n",
       "    .dataframe tbody tr th:only-of-type {\n",
       "        vertical-align: middle;\n",
       "    }\n",
       "\n",
       "    .dataframe tbody tr th {\n",
       "        vertical-align: top;\n",
       "    }\n",
       "\n",
       "    .dataframe thead th {\n",
       "        text-align: right;\n",
       "    }\n",
       "</style>\n",
       "<table border=\"1\" class=\"dataframe\">\n",
       "  <thead>\n",
       "    <tr style=\"text-align: right;\">\n",
       "      <th></th>\n",
       "      <th>0</th>\n",
       "      <th>1</th>\n",
       "      <th>2</th>\n",
       "      <th>3</th>\n",
       "      <th>4</th>\n",
       "      <th>5</th>\n",
       "      <th>6</th>\n",
       "      <th>7</th>\n",
       "      <th>8</th>\n",
       "      <th>9</th>\n",
       "      <th>target</th>\n",
       "    </tr>\n",
       "  </thead>\n",
       "  <tbody>\n",
       "    <tr>\n",
       "      <th>0</th>\n",
       "      <td>0.082460</td>\n",
       "      <td>-0.712976</td>\n",
       "      <td>-1.027904</td>\n",
       "      <td>-0.877485</td>\n",
       "      <td>0.975080</td>\n",
       "      <td>-0.906603</td>\n",
       "      <td>0.759237</td>\n",
       "      <td>0.115053</td>\n",
       "      <td>-1.812349</td>\n",
       "      <td>1.775718</td>\n",
       "      <td>2</td>\n",
       "    </tr>\n",
       "    <tr>\n",
       "      <th>1</th>\n",
       "      <td>-0.798006</td>\n",
       "      <td>-1.082135</td>\n",
       "      <td>1.011399</td>\n",
       "      <td>2.411815</td>\n",
       "      <td>-0.066956</td>\n",
       "      <td>-0.475839</td>\n",
       "      <td>-1.803427</td>\n",
       "      <td>2.439899</td>\n",
       "      <td>-0.947432</td>\n",
       "      <td>-1.961204</td>\n",
       "      <td>2</td>\n",
       "    </tr>\n",
       "    <tr>\n",
       "      <th>2</th>\n",
       "      <td>3.511094</td>\n",
       "      <td>0.633896</td>\n",
       "      <td>-1.052074</td>\n",
       "      <td>0.259029</td>\n",
       "      <td>0.201104</td>\n",
       "      <td>-1.644289</td>\n",
       "      <td>-0.817468</td>\n",
       "      <td>0.713118</td>\n",
       "      <td>-1.239226</td>\n",
       "      <td>0.186450</td>\n",
       "      <td>1</td>\n",
       "    </tr>\n",
       "    <tr>\n",
       "      <th>3</th>\n",
       "      <td>-0.755474</td>\n",
       "      <td>0.736428</td>\n",
       "      <td>-0.426566</td>\n",
       "      <td>-0.692767</td>\n",
       "      <td>0.761069</td>\n",
       "      <td>0.184469</td>\n",
       "      <td>1.050602</td>\n",
       "      <td>-0.697999</td>\n",
       "      <td>0.211870</td>\n",
       "      <td>-0.380524</td>\n",
       "      <td>2</td>\n",
       "    </tr>\n",
       "    <tr>\n",
       "      <th>4</th>\n",
       "      <td>-0.168082</td>\n",
       "      <td>0.680700</td>\n",
       "      <td>-0.969746</td>\n",
       "      <td>1.314660</td>\n",
       "      <td>0.431424</td>\n",
       "      <td>1.997015</td>\n",
       "      <td>1.564474</td>\n",
       "      <td>0.563416</td>\n",
       "      <td>1.171697</td>\n",
       "      <td>0.225748</td>\n",
       "      <td>0</td>\n",
       "    </tr>\n",
       "  </tbody>\n",
       "</table>\n",
       "</div>"
      ],
      "text/plain": [
       "          0         1         2         3         4         5         6  \\\n",
       "0  0.082460 -0.712976 -1.027904 -0.877485  0.975080 -0.906603  0.759237   \n",
       "1 -0.798006 -1.082135  1.011399  2.411815 -0.066956 -0.475839 -1.803427   \n",
       "2  3.511094  0.633896 -1.052074  0.259029  0.201104 -1.644289 -0.817468   \n",
       "3 -0.755474  0.736428 -0.426566 -0.692767  0.761069  0.184469  1.050602   \n",
       "4 -0.168082  0.680700 -0.969746  1.314660  0.431424  1.997015  1.564474   \n",
       "\n",
       "          7         8         9  target  \n",
       "0  0.115053 -1.812349  1.775718       2  \n",
       "1  2.439899 -0.947432 -1.961204       2  \n",
       "2  0.713118 -1.239226  0.186450       1  \n",
       "3 -0.697999  0.211870 -0.380524       2  \n",
       "4  0.563416  1.171697  0.225748       0  "
      ]
     },
     "execution_count": 3,
     "metadata": {},
     "output_type": "execute_result"
    }
   ],
   "source": [
    "import pandas as pd\n",
    "x_df=pd.DataFrame(x)\n",
    "y_df=pd.DataFrame(y)\n",
    "x_df[\"target\"]=y_df\n",
    "x_df.head()"
   ]
  },
  {
   "cell_type": "code",
   "execution_count": 4,
   "id": "77dc6cd4-0a74-4bf2-9f41-5dc1dbf670ba",
   "metadata": {
    "tags": []
   },
   "outputs": [],
   "source": [
    "x,y=make_regression(n_samples=50,n_features=15,n_informative=8)"
   ]
  },
  {
   "cell_type": "code",
   "execution_count": 5,
   "id": "006b6dd8-f7a3-41a2-85de-8c4b8fa84d14",
   "metadata": {
    "tags": []
   },
   "outputs": [
    {
     "data": {
      "text/html": [
       "<div>\n",
       "<style scoped>\n",
       "    .dataframe tbody tr th:only-of-type {\n",
       "        vertical-align: middle;\n",
       "    }\n",
       "\n",
       "    .dataframe tbody tr th {\n",
       "        vertical-align: top;\n",
       "    }\n",
       "\n",
       "    .dataframe thead th {\n",
       "        text-align: right;\n",
       "    }\n",
       "</style>\n",
       "<table border=\"1\" class=\"dataframe\">\n",
       "  <thead>\n",
       "    <tr style=\"text-align: right;\">\n",
       "      <th></th>\n",
       "      <th>0</th>\n",
       "      <th>1</th>\n",
       "      <th>2</th>\n",
       "      <th>3</th>\n",
       "      <th>4</th>\n",
       "      <th>5</th>\n",
       "      <th>6</th>\n",
       "      <th>7</th>\n",
       "      <th>8</th>\n",
       "      <th>9</th>\n",
       "      <th>10</th>\n",
       "      <th>11</th>\n",
       "      <th>12</th>\n",
       "      <th>13</th>\n",
       "      <th>14</th>\n",
       "      <th>target</th>\n",
       "    </tr>\n",
       "  </thead>\n",
       "  <tbody>\n",
       "    <tr>\n",
       "      <th>0</th>\n",
       "      <td>-0.897707</td>\n",
       "      <td>-1.146779</td>\n",
       "      <td>0.981192</td>\n",
       "      <td>1.028444</td>\n",
       "      <td>-0.415451</td>\n",
       "      <td>1.038422</td>\n",
       "      <td>-0.158073</td>\n",
       "      <td>0.131735</td>\n",
       "      <td>-1.325756</td>\n",
       "      <td>-0.209281</td>\n",
       "      <td>1.026298</td>\n",
       "      <td>0.806037</td>\n",
       "      <td>-0.016770</td>\n",
       "      <td>-0.395183</td>\n",
       "      <td>-0.471449</td>\n",
       "      <td>-73.058225</td>\n",
       "    </tr>\n",
       "    <tr>\n",
       "      <th>1</th>\n",
       "      <td>2.144164</td>\n",
       "      <td>-0.588497</td>\n",
       "      <td>-0.419604</td>\n",
       "      <td>-1.053498</td>\n",
       "      <td>-0.787633</td>\n",
       "      <td>-1.974784</td>\n",
       "      <td>1.259493</td>\n",
       "      <td>0.598748</td>\n",
       "      <td>-0.253988</td>\n",
       "      <td>-0.401451</td>\n",
       "      <td>-0.963499</td>\n",
       "      <td>-0.472410</td>\n",
       "      <td>-0.072562</td>\n",
       "      <td>1.004191</td>\n",
       "      <td>0.210742</td>\n",
       "      <td>198.237078</td>\n",
       "    </tr>\n",
       "    <tr>\n",
       "      <th>2</th>\n",
       "      <td>-0.514884</td>\n",
       "      <td>1.851417</td>\n",
       "      <td>-1.031794</td>\n",
       "      <td>-0.557835</td>\n",
       "      <td>-0.402459</td>\n",
       "      <td>2.576027</td>\n",
       "      <td>0.816776</td>\n",
       "      <td>-0.870352</td>\n",
       "      <td>0.710367</td>\n",
       "      <td>0.462120</td>\n",
       "      <td>-0.438506</td>\n",
       "      <td>-0.710785</td>\n",
       "      <td>-0.848281</td>\n",
       "      <td>1.619083</td>\n",
       "      <td>-0.216349</td>\n",
       "      <td>59.046021</td>\n",
       "    </tr>\n",
       "    <tr>\n",
       "      <th>3</th>\n",
       "      <td>-1.345898</td>\n",
       "      <td>0.935478</td>\n",
       "      <td>-0.159363</td>\n",
       "      <td>-0.903797</td>\n",
       "      <td>0.074801</td>\n",
       "      <td>-0.725290</td>\n",
       "      <td>2.670191</td>\n",
       "      <td>2.262756</td>\n",
       "      <td>-1.561817</td>\n",
       "      <td>0.025615</td>\n",
       "      <td>-0.263809</td>\n",
       "      <td>1.923683</td>\n",
       "      <td>0.270687</td>\n",
       "      <td>1.840211</td>\n",
       "      <td>1.237268</td>\n",
       "      <td>224.184066</td>\n",
       "    </tr>\n",
       "    <tr>\n",
       "      <th>4</th>\n",
       "      <td>0.602820</td>\n",
       "      <td>-0.777739</td>\n",
       "      <td>0.944577</td>\n",
       "      <td>1.638424</td>\n",
       "      <td>-0.155524</td>\n",
       "      <td>-0.757385</td>\n",
       "      <td>1.171438</td>\n",
       "      <td>-2.030248</td>\n",
       "      <td>-0.576965</td>\n",
       "      <td>2.594093</td>\n",
       "      <td>0.652870</td>\n",
       "      <td>-2.037645</td>\n",
       "      <td>1.713993</td>\n",
       "      <td>-0.326455</td>\n",
       "      <td>-0.354916</td>\n",
       "      <td>100.694360</td>\n",
       "    </tr>\n",
       "  </tbody>\n",
       "</table>\n",
       "</div>"
      ],
      "text/plain": [
       "          0         1         2         3         4         5         6  \\\n",
       "0 -0.897707 -1.146779  0.981192  1.028444 -0.415451  1.038422 -0.158073   \n",
       "1  2.144164 -0.588497 -0.419604 -1.053498 -0.787633 -1.974784  1.259493   \n",
       "2 -0.514884  1.851417 -1.031794 -0.557835 -0.402459  2.576027  0.816776   \n",
       "3 -1.345898  0.935478 -0.159363 -0.903797  0.074801 -0.725290  2.670191   \n",
       "4  0.602820 -0.777739  0.944577  1.638424 -0.155524 -0.757385  1.171438   \n",
       "\n",
       "          7         8         9        10        11        12        13  \\\n",
       "0  0.131735 -1.325756 -0.209281  1.026298  0.806037 -0.016770 -0.395183   \n",
       "1  0.598748 -0.253988 -0.401451 -0.963499 -0.472410 -0.072562  1.004191   \n",
       "2 -0.870352  0.710367  0.462120 -0.438506 -0.710785 -0.848281  1.619083   \n",
       "3  2.262756 -1.561817  0.025615 -0.263809  1.923683  0.270687  1.840211   \n",
       "4 -2.030248 -0.576965  2.594093  0.652870 -2.037645  1.713993 -0.326455   \n",
       "\n",
       "         14      target  \n",
       "0 -0.471449  -73.058225  \n",
       "1  0.210742  198.237078  \n",
       "2 -0.216349   59.046021  \n",
       "3  1.237268  224.184066  \n",
       "4 -0.354916  100.694360  "
      ]
     },
     "execution_count": 5,
     "metadata": {},
     "output_type": "execute_result"
    }
   ],
   "source": [
    "x_df=pd.DataFrame(x)\n",
    "y_df=pd.DataFrame(y)\n",
    "x_df[\"target\"]=y_df\n",
    "x_df.head()"
   ]
  },
  {
   "cell_type": "code",
   "execution_count": 6,
   "id": "a2d037d6-3be8-4908-b1e5-e83850326f69",
   "metadata": {
    "tags": []
   },
   "outputs": [
    {
     "data": {
      "text/plain": [
       "'Joseph Martinez'"
      ]
     },
     "execution_count": 6,
     "metadata": {},
     "output_type": "execute_result"
    }
   ],
   "source": [
    "from faker import Faker\n",
    "fake=Faker()\n",
    "fake.name()"
   ]
  },
  {
   "cell_type": "code",
   "execution_count": 7,
   "id": "c370f87e-0565-4966-a54a-243602d2b390",
   "metadata": {
    "tags": []
   },
   "outputs": [
    {
     "data": {
      "text/plain": [
       "'7561 Conley Shoals\\nNorth Joseph, MT 34747'"
      ]
     },
     "execution_count": 7,
     "metadata": {},
     "output_type": "execute_result"
    }
   ],
   "source": [
    "fake.address()"
   ]
  },
  {
   "cell_type": "code",
   "execution_count": 8,
   "id": "3ef9a59d-ffb1-4d03-a705-8828877ba460",
   "metadata": {
    "tags": []
   },
   "outputs": [
    {
     "data": {
      "text/plain": [
       "'4603 Kathryn Mountains Apt. 661'"
      ]
     },
     "execution_count": 8,
     "metadata": {},
     "output_type": "execute_result"
    }
   ],
   "source": [
    "fake.street_address()"
   ]
  },
  {
   "cell_type": "code",
   "execution_count": 10,
   "id": "49679129-6dc6-4461-8c26-cd36072853f1",
   "metadata": {
    "tags": []
   },
   "outputs": [
    {
     "data": {
      "text/html": [
       "<div>\n",
       "<style scoped>\n",
       "    .dataframe tbody tr th:only-of-type {\n",
       "        vertical-align: middle;\n",
       "    }\n",
       "\n",
       "    .dataframe tbody tr th {\n",
       "        vertical-align: top;\n",
       "    }\n",
       "\n",
       "    .dataframe thead th {\n",
       "        text-align: right;\n",
       "    }\n",
       "</style>\n",
       "<table border=\"1\" class=\"dataframe\">\n",
       "  <thead>\n",
       "    <tr style=\"text-align: right;\">\n",
       "      <th></th>\n",
       "      <th>name</th>\n",
       "      <th>address</th>\n",
       "      <th>birthday</th>\n",
       "      <th>email</th>\n",
       "    </tr>\n",
       "  </thead>\n",
       "  <tbody>\n",
       "    <tr>\n",
       "      <th>0</th>\n",
       "      <td>Taylor Haynes</td>\n",
       "      <td>55468 Ashley Ridges\\nNorth Michelleborough, CT...</td>\n",
       "      <td>1918-02-15</td>\n",
       "      <td>rebecca91@example.org</td>\n",
       "    </tr>\n",
       "    <tr>\n",
       "      <th>1</th>\n",
       "      <td>Wanda Wong</td>\n",
       "      <td>USS Brown\\nFPO AA 23502</td>\n",
       "      <td>1961-12-27</td>\n",
       "      <td>stacy14@example.org</td>\n",
       "    </tr>\n",
       "    <tr>\n",
       "      <th>2</th>\n",
       "      <td>Patricia Cox</td>\n",
       "      <td>5310 Heather Row\\nLake Vanessafort, FM 92533</td>\n",
       "      <td>1955-02-21</td>\n",
       "      <td>freemankatherine@example.net</td>\n",
       "    </tr>\n",
       "    <tr>\n",
       "      <th>3</th>\n",
       "      <td>Anthony Osborne</td>\n",
       "      <td>7294 John Land\\nAbbottfort, WI 83605</td>\n",
       "      <td>2021-11-19</td>\n",
       "      <td>frank20@example.com</td>\n",
       "    </tr>\n",
       "    <tr>\n",
       "      <th>4</th>\n",
       "      <td>Heather Medina</td>\n",
       "      <td>14518 Jeffrey Mission Apt. 587\\nSouth Christop...</td>\n",
       "      <td>1957-07-27</td>\n",
       "      <td>millerjustin@example.net</td>\n",
       "    </tr>\n",
       "  </tbody>\n",
       "</table>\n",
       "</div>"
      ],
      "text/plain": [
       "              name                                            address  \\\n",
       "0    Taylor Haynes  55468 Ashley Ridges\\nNorth Michelleborough, CT...   \n",
       "1       Wanda Wong                            USS Brown\\nFPO AA 23502   \n",
       "2     Patricia Cox       5310 Heather Row\\nLake Vanessafort, FM 92533   \n",
       "3  Anthony Osborne               7294 John Land\\nAbbottfort, WI 83605   \n",
       "4   Heather Medina  14518 Jeffrey Mission Apt. 587\\nSouth Christop...   \n",
       "\n",
       "     birthday                         email  \n",
       "0  1918-02-15         rebecca91@example.org  \n",
       "1  1961-12-27           stacy14@example.org  \n",
       "2  1955-02-21  freemankatherine@example.net  \n",
       "3  2021-11-19           frank20@example.com  \n",
       "4  1957-07-27      millerjustin@example.net  "
      ]
     },
     "execution_count": 10,
     "metadata": {},
     "output_type": "execute_result"
    }
   ],
   "source": [
    "df=pd.DataFrame(\n",
    "    [\n",
    "        {\n",
    "            \"name\": fake.name(),\n",
    "            \"address\": fake.address(),\n",
    "            \"birthday\": fake.date_of_birth(),\n",
    "            \"email\": fake.email(),\n",
    "        }\n",
    "        for _ in range(100)\n",
    "    ]\n",
    ")\n",
    "df.head()"
   ]
  },
  {
   "cell_type": "code",
   "execution_count": 18,
   "id": "b286a660-cbc7-4bfd-be80-b616f284debf",
   "metadata": {
    "tags": []
   },
   "outputs": [
    {
     "name": "stdout",
     "output_type": "stream",
     "text": [
      "Collecting pyod\n",
      "  Downloading pyod-1.1.3.tar.gz (160 kB)\n",
      "\u001b[2K     \u001b[38;2;114;156;31m━━━━━━━━━━━━━━━━━━━━━━━━━━━━━━━━━━━━━━━\u001b[0m \u001b[32m160.5/160.5 kB\u001b[0m \u001b[31m2.1 MB/s\u001b[0m eta \u001b[36m0:00:00\u001b[0m MB/s\u001b[0m eta \u001b[36m0:00:01\u001b[0m\n",
      "\u001b[?25h  Preparing metadata (setup.py) ... \u001b[?25ldone\n",
      "\u001b[?25hRequirement already satisfied: joblib in ./anaconda3/lib/python3.11/site-packages (from pyod) (1.2.0)\n",
      "Requirement already satisfied: matplotlib in ./anaconda3/lib/python3.11/site-packages (from pyod) (3.7.2)\n",
      "Requirement already satisfied: numpy>=1.19 in ./anaconda3/lib/python3.11/site-packages (from pyod) (1.26.4)\n",
      "Requirement already satisfied: numba>=0.51 in ./anaconda3/lib/python3.11/site-packages (from pyod) (0.57.1)\n",
      "Requirement already satisfied: scipy>=1.5.1 in ./anaconda3/lib/python3.11/site-packages (from pyod) (1.11.1)\n",
      "Requirement already satisfied: scikit_learn>=0.22.0 in ./anaconda3/lib/python3.11/site-packages (from pyod) (1.3.0)\n",
      "Requirement already satisfied: six in ./anaconda3/lib/python3.11/site-packages (from pyod) (1.16.0)\n",
      "Requirement already satisfied: llvmlite<0.41,>=0.40.0dev0 in ./anaconda3/lib/python3.11/site-packages (from numba>=0.51->pyod) (0.40.0)\n",
      "Collecting numpy>=1.19 (from pyod)\n",
      "  Obtaining dependency information for numpy>=1.19 from https://files.pythonhosted.org/packages/22/97/dfb1a31bb46686f09e68ea6ac5c63fdee0d22d7b23b8f3f7ea07712869ef/numpy-1.24.4-cp311-cp311-manylinux_2_17_x86_64.manylinux2014_x86_64.whl.metadata\n",
      "  Downloading numpy-1.24.4-cp311-cp311-manylinux_2_17_x86_64.manylinux2014_x86_64.whl.metadata (5.6 kB)\n",
      "Requirement already satisfied: threadpoolctl>=2.0.0 in ./anaconda3/lib/python3.11/site-packages (from scikit_learn>=0.22.0->pyod) (2.2.0)\n",
      "Requirement already satisfied: contourpy>=1.0.1 in ./anaconda3/lib/python3.11/site-packages (from matplotlib->pyod) (1.0.5)\n",
      "Requirement already satisfied: cycler>=0.10 in ./anaconda3/lib/python3.11/site-packages (from matplotlib->pyod) (0.11.0)\n",
      "Requirement already satisfied: fonttools>=4.22.0 in ./anaconda3/lib/python3.11/site-packages (from matplotlib->pyod) (4.25.0)\n",
      "Requirement already satisfied: kiwisolver>=1.0.1 in ./anaconda3/lib/python3.11/site-packages (from matplotlib->pyod) (1.4.4)\n",
      "Requirement already satisfied: packaging>=20.0 in ./anaconda3/lib/python3.11/site-packages (from matplotlib->pyod) (23.2)\n",
      "Requirement already satisfied: pillow>=6.2.0 in ./anaconda3/lib/python3.11/site-packages (from matplotlib->pyod) (9.4.0)\n",
      "Requirement already satisfied: pyparsing<3.1,>=2.3.1 in ./anaconda3/lib/python3.11/site-packages (from matplotlib->pyod) (3.0.9)\n",
      "Requirement already satisfied: python-dateutil>=2.7 in ./anaconda3/lib/python3.11/site-packages (from matplotlib->pyod) (2.8.2)\n",
      "Downloading numpy-1.24.4-cp311-cp311-manylinux_2_17_x86_64.manylinux2014_x86_64.whl (17.3 MB)\n",
      "\u001b[2K   \u001b[38;2;114;156;31m━━━━━━━━━━━━━━━━━━━━━━━━━━━━━━━━━━━━━━━━\u001b[0m \u001b[32m17.3/17.3 MB\u001b[0m \u001b[31m16.3 MB/s\u001b[0m eta \u001b[36m0:00:00\u001b[0mm eta \u001b[36m0:00:01\u001b[0m[36m0:00:01\u001b[0m\n",
      "\u001b[?25hBuilding wheels for collected packages: pyod\n",
      "  Building wheel for pyod (setup.py) ... \u001b[?25ldone\n",
      "\u001b[?25h  Created wheel for pyod: filename=pyod-1.1.3-py3-none-any.whl size=190252 sha256=3e990428122d66f7c14c3201d196c0738d9e435185f5e804c85b05311a06692b\n",
      "  Stored in directory: /home/user1/.cache/pip/wheels/86/9b/f4/bf3eea6cbc128fd0e5f871486beb8b657486f343d7f6ecbde9\n",
      "Successfully built pyod\n",
      "Installing collected packages: numpy, pyod\n",
      "  Attempting uninstall: numpy\n",
      "    Found existing installation: numpy 1.26.4\n",
      "    Uninstalling numpy-1.26.4:\n",
      "      Successfully uninstalled numpy-1.26.4\n",
      "\u001b[31mERROR: pip's dependency resolver does not currently take into account all the packages that are installed. This behaviour is the source of the following dependency conflicts.\n",
      "gensim 4.3.0 requires FuzzyTM>=0.4.0, which is not installed.\n",
      "tables 3.8.0 requires blosc2~=2.0.0, which is not installed.\n",
      "tables 3.8.0 requires cython>=0.29.21, which is not installed.\u001b[0m\u001b[31m\n",
      "\u001b[0mSuccessfully installed numpy-1.24.4 pyod-1.1.3\n",
      "Note: you may need to restart the kernel to use updated packages.\n"
     ]
    }
   ],
   "source": [
    "pip install pyod"
   ]
  },
  {
   "cell_type": "code",
   "execution_count": 27,
   "id": "27b3243a-1958-452c-aaa1-ab43e1a3fa34",
   "metadata": {
    "tags": []
   },
   "outputs": [
    {
     "data": {
      "text/plain": [
       "<Axes: xlabel='0', ylabel='1'>"
      ]
     },
     "execution_count": 27,
     "metadata": {},
     "output_type": "execute_result"
    },
    {
     "data": {
      "image/png": "[encoded data removed]",
      "text/plain": [
       "<Figure size 640x480 with 1 Axes>"
      ]
     },
     "metadata": {},
     "output_type": "display_data"
    }
   ],
   "source": [
    "from pyod.utils.data import generate_data\n",
    "import seaborn as sns\n",
    "import matplotlib.pyplot as plt\n",
    "X,y=generate_data(\n",
    "    n_train=40,\n",
    "    contamination=0.05,\n",
    "    n_features=2,\n",
    "    train_only=True,\n",
    "    random_state=1\n",
    ")\n",
    "x_df=pd.DataFrame(x)\n",
    "x_df[\"is_anomaly\"]=pd.DataFrame(y)\n",
    "sns.scatterplot(data=x_df,x=0,y=1,hue=\"is_anomaly\")"
   ]
  },
  {
   "cell_type": "code",
   "execution_count": 28,
   "id": "ac8f6aeb-e1ee-4739-88a1-b800c94a6dcc",
   "metadata": {
    "tags": []
   },
   "outputs": [
    {
     "name": "stdout",
     "output_type": "stream",
     "text": [
      "Collecting ctgan\n",
      "  Obtaining dependency information for ctgan from https://files.pythonhosted.org/packages/3e/02/4694a30685b0504cfd2bf0d40ab1561a70c402e83d6627a9e141fd10a504/ctgan-0.10.0-py3-none-any.whl.metadata\n",
      "  Downloading ctgan-0.10.0-py3-none-any.whl.metadata (11 kB)\n",
      "Requirement already satisfied: tqdm<5,>=4.29 in ./anaconda3/lib/python3.11/site-packages (from ctgan) (4.65.0)\n",
      "Collecting rdt>=1.11.0 (from ctgan)\n",
      "  Obtaining dependency information for rdt>=1.11.0 from https://files.pythonhosted.org/packages/0c/71/901005406e24e27940b14898cdb179406cb92c491eb9d7759ad790ccfffa/rdt-1.11.0-py3-none-any.whl.metadata\n",
      "  Downloading rdt-1.11.0-py3-none-any.whl.metadata (11 kB)\n",
      "Requirement already satisfied: numpy<2,>=1.23.3 in ./anaconda3/lib/python3.11/site-packages (from ctgan) (1.24.4)\n",
      "Requirement already satisfied: pandas>=1.5.0 in ./anaconda3/lib/python3.11/site-packages (from ctgan) (2.0.3)\n",
      "Collecting torch>=2.0.0 (from ctgan)\n",
      "  Obtaining dependency information for torch>=2.0.0 from https://files.pythonhosted.org/packages/c3/33/d7a6123231bd4d04c7005dde8507235772f3bc4622a25f3a88c016415d49/torch-2.2.2-cp311-cp311-manylinux1_x86_64.whl.metadata\n",
      "  Downloading torch-2.2.2-cp311-cp311-manylinux1_x86_64.whl.metadata (25 kB)\n",
      "Requirement already satisfied: python-dateutil>=2.8.2 in ./anaconda3/lib/python3.11/site-packages (from pandas>=1.5.0->ctgan) (2.8.2)\n",
      "Requirement already satisfied: pytz>=2020.1 in ./anaconda3/lib/python3.11/site-packages (from pandas>=1.5.0->ctgan) (2023.3.post1)\n",
      "Requirement already satisfied: tzdata>=2022.1 in ./anaconda3/lib/python3.11/site-packages (from pandas>=1.5.0->ctgan) (2023.3)\n",
      "Requirement already satisfied: Faker>=17 in ./anaconda3/lib/python3.11/site-packages (from rdt>=1.11.0->ctgan) (23.3.0)\n",
      "Requirement already satisfied: scipy>=1.9.2 in ./anaconda3/lib/python3.11/site-packages (from rdt>=1.11.0->ctgan) (1.11.1)\n",
      "Requirement already satisfied: scikit-learn>=1.1.3 in ./anaconda3/lib/python3.11/site-packages (from rdt>=1.11.0->ctgan) (1.3.0)\n",
      "Requirement already satisfied: filelock in ./anaconda3/lib/python3.11/site-packages (from torch>=2.0.0->ctgan) (3.13.1)\n",
      "Collecting typing-extensions>=4.8.0 (from torch>=2.0.0->ctgan)\n",
      "  Obtaining dependency information for typing-extensions>=4.8.0 from https://files.pythonhosted.org/packages/01/f3/936e209267d6ef7510322191003885de524fc48d1b43269810cd589ceaf5/typing_extensions-4.11.0-py3-none-any.whl.metadata\n",
      "  Downloading typing_extensions-4.11.0-py3-none-any.whl.metadata (3.0 kB)\n",
      "Requirement already satisfied: sympy in ./anaconda3/lib/python3.11/site-packages (from torch>=2.0.0->ctgan) (1.11.1)\n",
      "Requirement already satisfied: networkx in ./anaconda3/lib/python3.11/site-packages (from torch>=2.0.0->ctgan) (3.1)\n",
      "Requirement already satisfied: jinja2 in ./anaconda3/lib/python3.11/site-packages (from torch>=2.0.0->ctgan) (3.1.2)\n",
      "Requirement already satisfied: fsspec in ./anaconda3/lib/python3.11/site-packages (from torch>=2.0.0->ctgan) (2023.4.0)\n",
      "Collecting nvidia-cuda-nvrtc-cu12==12.1.105 (from torch>=2.0.0->ctgan)\n",
      "  Obtaining dependency information for nvidia-cuda-nvrtc-cu12==12.1.105 from https://files.pythonhosted.org/packages/b6/9f/c64c03f49d6fbc56196664d05dba14e3a561038a81a638eeb47f4d4cfd48/nvidia_cuda_nvrtc_cu12-12.1.105-py3-none-manylinux1_x86_64.whl.metadata\n",
      "  Downloading nvidia_cuda_nvrtc_cu12-12.1.105-py3-none-manylinux1_x86_64.whl.metadata (1.5 kB)\n",
      "Collecting nvidia-cuda-runtime-cu12==12.1.105 (from torch>=2.0.0->ctgan)\n",
      "  Obtaining dependency information for nvidia-cuda-runtime-cu12==12.1.105 from https://files.pythonhosted.org/packages/eb/d5/c68b1d2cdfcc59e72e8a5949a37ddb22ae6cade80cd4a57a84d4c8b55472/nvidia_cuda_runtime_cu12-12.1.105-py3-none-manylinux1_x86_64.whl.metadata\n",
      "  Downloading nvidia_cuda_runtime_cu12-12.1.105-py3-none-manylinux1_x86_64.whl.metadata (1.5 kB)\n",
      "Collecting nvidia-cuda-cupti-cu12==12.1.105 (from torch>=2.0.0->ctgan)\n",
      "  Obtaining dependency information for nvidia-cuda-cupti-cu12==12.1.105 from https://files.pythonhosted.org/packages/7e/00/6b218edd739ecfc60524e585ba8e6b00554dd908de2c9c66c1af3e44e18d/nvidia_cuda_cupti_cu12-12.1.105-py3-none-manylinux1_x86_64.whl.metadata\n",
      "  Downloading nvidia_cuda_cupti_cu12-12.1.105-py3-none-manylinux1_x86_64.whl.metadata (1.6 kB)\n",
      "Collecting nvidia-cudnn-cu12==8.9.2.26 (from torch>=2.0.0->ctgan)\n",
      "  Obtaining dependency information for nvidia-cudnn-cu12==8.9.2.26 from https://files.pythonhosted.org/packages/ff/74/a2e2be7fb83aaedec84f391f082cf765dfb635e7caa9b49065f73e4835d8/nvidia_cudnn_cu12-8.9.2.26-py3-none-manylinux1_x86_64.whl.metadata\n",
      "  Downloading nvidia_cudnn_cu12-8.9.2.26-py3-none-manylinux1_x86_64.whl.metadata (1.6 kB)\n",
      "Collecting nvidia-cublas-cu12==12.1.3.1 (from torch>=2.0.0->ctgan)\n",
      "  Obtaining dependency information for nvidia-cublas-cu12==12.1.3.1 from https://files.pythonhosted.org/packages/37/6d/121efd7382d5b0284239f4ab1fc1590d86d34ed4a4a2fdb13b30ca8e5740/nvidia_cublas_cu12-12.1.3.1-py3-none-manylinux1_x86_64.whl.metadata\n",
      "  Downloading nvidia_cublas_cu12-12.1.3.1-py3-none-manylinux1_x86_64.whl.metadata (1.5 kB)\n",
      "Collecting nvidia-cufft-cu12==11.0.2.54 (from torch>=2.0.0->ctgan)\n",
      "  Obtaining dependency information for nvidia-cufft-cu12==11.0.2.54 from https://files.pythonhosted.org/packages/86/94/eb540db023ce1d162e7bea9f8f5aa781d57c65aed513c33ee9a5123ead4d/nvidia_cufft_cu12-11.0.2.54-py3-none-manylinux1_x86_64.whl.metadata\n",
      "  Downloading nvidia_cufft_cu12-11.0.2.54-py3-none-manylinux1_x86_64.whl.metadata (1.5 kB)\n",
      "Collecting nvidia-curand-cu12==10.3.2.106 (from torch>=2.0.0->ctgan)\n",
      "  Obtaining dependency information for nvidia-curand-cu12==10.3.2.106 from https://files.pythonhosted.org/packages/44/31/4890b1c9abc496303412947fc7dcea3d14861720642b49e8ceed89636705/nvidia_curand_cu12-10.3.2.106-py3-none-manylinux1_x86_64.whl.metadata\n",
      "  Downloading nvidia_curand_cu12-10.3.2.106-py3-none-manylinux1_x86_64.whl.metadata (1.5 kB)\n",
      "Collecting nvidia-cusolver-cu12==11.4.5.107 (from torch>=2.0.0->ctgan)\n",
      "  Obtaining dependency information for nvidia-cusolver-cu12==11.4.5.107 from https://files.pythonhosted.org/packages/bc/1d/8de1e5c67099015c834315e333911273a8c6aaba78923dd1d1e25fc5f217/nvidia_cusolver_cu12-11.4.5.107-py3-none-manylinux1_x86_64.whl.metadata\n",
      "  Downloading nvidia_cusolver_cu12-11.4.5.107-py3-none-manylinux1_x86_64.whl.metadata (1.6 kB)\n",
      "Collecting nvidia-cusparse-cu12==12.1.0.106 (from torch>=2.0.0->ctgan)\n",
      "  Obtaining dependency information for nvidia-cusparse-cu12==12.1.0.106 from https://files.pythonhosted.org/packages/65/5b/cfaeebf25cd9fdec14338ccb16f6b2c4c7fa9163aefcf057d86b9cc248bb/nvidia_cusparse_cu12-12.1.0.106-py3-none-manylinux1_x86_64.whl.metadata\n",
      "  Downloading nvidia_cusparse_cu12-12.1.0.106-py3-none-manylinux1_x86_64.whl.metadata (1.6 kB)\n",
      "Collecting nvidia-nccl-cu12==2.19.3 (from torch>=2.0.0->ctgan)\n",
      "  Obtaining dependency information for nvidia-nccl-cu12==2.19.3 from https://files.pythonhosted.org/packages/38/00/d0d4e48aef772ad5aebcf70b73028f88db6e5640b36c38e90445b7a57c45/nvidia_nccl_cu12-2.19.3-py3-none-manylinux1_x86_64.whl.metadata\n",
      "  Downloading nvidia_nccl_cu12-2.19.3-py3-none-manylinux1_x86_64.whl.metadata (1.8 kB)\n",
      "Collecting nvidia-nvtx-cu12==12.1.105 (from torch>=2.0.0->ctgan)\n",
      "  Obtaining dependency information for nvidia-nvtx-cu12==12.1.105 from https://files.pythonhosted.org/packages/da/d3/8057f0587683ed2fcd4dbfbdfdfa807b9160b809976099d36b8f60d08f03/nvidia_nvtx_cu12-12.1.105-py3-none-manylinux1_x86_64.whl.metadata\n",
      "  Downloading nvidia_nvtx_cu12-12.1.105-py3-none-manylinux1_x86_64.whl.metadata (1.7 kB)\n",
      "Collecting triton==2.2.0 (from torch>=2.0.0->ctgan)\n",
      "  Obtaining dependency information for triton==2.2.0 from https://files.pythonhosted.org/packages/bd/ac/3974caaa459bf2c3a244a84be8d17561f631f7d42af370fc311defeca2fb/triton-2.2.0-cp311-cp311-manylinux_2_17_x86_64.manylinux2014_x86_64.whl.metadata\n",
      "  Downloading triton-2.2.0-cp311-cp311-manylinux_2_17_x86_64.manylinux2014_x86_64.whl.metadata (1.4 kB)\n",
      "Collecting nvidia-nvjitlink-cu12 (from nvidia-cusolver-cu12==11.4.5.107->torch>=2.0.0->ctgan)\n",
      "  Obtaining dependency information for nvidia-nvjitlink-cu12 from https://files.pythonhosted.org/packages/ff/ff/847841bacfbefc97a00036e0fce5a0f086b640756dc38caea5e1bb002655/nvidia_nvjitlink_cu12-12.4.127-py3-none-manylinux2014_x86_64.whl.metadata\n",
      "  Downloading nvidia_nvjitlink_cu12-12.4.127-py3-none-manylinux2014_x86_64.whl.metadata (1.5 kB)\n",
      "Requirement already satisfied: six>=1.5 in ./anaconda3/lib/python3.11/site-packages (from python-dateutil>=2.8.2->pandas>=1.5.0->ctgan) (1.16.0)\n",
      "Requirement already satisfied: joblib>=1.1.1 in ./anaconda3/lib/python3.11/site-packages (from scikit-learn>=1.1.3->rdt>=1.11.0->ctgan) (1.2.0)\n",
      "Requirement already satisfied: threadpoolctl>=2.0.0 in ./anaconda3/lib/python3.11/site-packages (from scikit-learn>=1.1.3->rdt>=1.11.0->ctgan) (2.2.0)\n",
      "Requirement already satisfied: MarkupSafe>=2.0 in ./anaconda3/lib/python3.11/site-packages (from jinja2->torch>=2.0.0->ctgan) (2.1.1)\n",
      "Requirement already satisfied: mpmath>=0.19 in ./anaconda3/lib/python3.11/site-packages (from sympy->torch>=2.0.0->ctgan) (1.3.0)\n",
      "Downloading ctgan-0.10.0-py3-none-any.whl (24 kB)\n",
      "Downloading rdt-1.11.0-py3-none-any.whl (63 kB)\n",
      "\u001b[2K   \u001b[38;2;114;156;31m━━━━━━━━━━━━━━━━━━━━━━━━━━━━━━━━━━━━━━━━\u001b[0m \u001b[32m63.6/63.6 kB\u001b[0m \u001b[31m1.3 MB/s\u001b[0m eta \u001b[36m0:00:00\u001b[0m[31m4.4 MB/s\u001b[0m eta \u001b[36m0:00:01\u001b[0m\n",
      "\u001b[?25hDownloading torch-2.2.2-cp311-cp311-manylinux1_x86_64.whl (755.6 MB)\n",
      "\u001b[2K   \u001b[38;2;114;156;31m━━━━━━━━━━━━━━━━━━━━━━━━━━━━━━━━━━━━━━━\u001b[0m \u001b[32m755.6/755.6 MB\u001b[0m \u001b[31m918.6 kB/s\u001b[0m eta \u001b[36m0:00:00\u001b[0mm eta \u001b[36m0:00:01\u001b[0m[36m0:00:02\u001b[0m\n",
      "\u001b[?25hDownloading nvidia_cublas_cu12-12.1.3.1-py3-none-manylinux1_x86_64.whl (410.6 MB)\n",
      "\u001b[2K   \u001b[38;2;114;156;31m━━━━━━━━━━━━━━━━━━━━━━━━━━━━━━━━━━━━━━━━\u001b[0m \u001b[32m410.6/410.6 MB\u001b[0m \u001b[31m1.6 MB/s\u001b[0m eta \u001b[36m0:00:00\u001b[0m0m eta \u001b[36m0:00:01\u001b[0m[36m0:00:01\u001b[0m\n",
      "\u001b[?25hDownloading nvidia_cuda_cupti_cu12-12.1.105-py3-none-manylinux1_x86_64.whl (14.1 MB)\n",
      "\u001b[2K   \u001b[38;2;114;156;31m━━━━━━━━━━━━━━━━━━━━━━━━━━━━━━━━━━━━━━━━\u001b[0m \u001b[32m14.1/14.1 MB\u001b[0m \u001b[31m13.4 MB/s\u001b[0m eta \u001b[36m0:00:00\u001b[0mm eta \u001b[36m0:00:01\u001b[0m[36m0:00:01\u001b[0m\n",
      "\u001b[?25hDownloading nvidia_cuda_nvrtc_cu12-12.1.105-py3-none-manylinux1_x86_64.whl (23.7 MB)\n",
      "\u001b[2K   \u001b[38;2;114;156;31m━━━━━━━━━━━━━━━━━━━━━━━━━━━━━━━━━━━━━━━━\u001b[0m \u001b[32m23.7/23.7 MB\u001b[0m \u001b[31m11.9 MB/s\u001b[0m eta \u001b[36m0:00:00\u001b[0mm eta \u001b[36m0:00:01\u001b[0m[36m0:00:01\u001b[0m\n",
      "\u001b[?25hDownloading nvidia_cuda_runtime_cu12-12.1.105-py3-none-manylinux1_x86_64.whl (823 kB)\n",
      "\u001b[2K   \u001b[38;2;114;156;31m━━━━━━━━━━━━━━━━━━━━━━━━━━━━━━━━━━━━━━━━\u001b[0m \u001b[32m823.6/823.6 kB\u001b[0m \u001b[31m8.9 MB/s\u001b[0m eta \u001b[36m0:00:00\u001b[0m0m eta \u001b[36m0:00:01\u001b[0m\n",
      "\u001b[?25hDownloading nvidia_cudnn_cu12-8.9.2.26-py3-none-manylinux1_x86_64.whl (731.7 MB)\n",
      "\u001b[2K   \u001b[38;2;114;156;31m━━━━━━━━━━━━━━━━━━━━━━━━━━━━━━━━━━━━━━━━\u001b[0m \u001b[32m731.7/731.7 MB\u001b[0m \u001b[31m1.1 MB/s\u001b[0m eta \u001b[36m0:00:00\u001b[0m0m eta \u001b[36m0:00:01\u001b[0m[36m0:00:02\u001b[0m\n",
      "\u001b[?25hDownloading nvidia_cufft_cu12-11.0.2.54-py3-none-manylinux1_x86_64.whl (121.6 MB)\n",
      "\u001b[2K   \u001b[38;2;114;156;31m━━━━━━━━━━━━━━━━━━━━━━━━━━━━━━━━━━━━━━━━\u001b[0m \u001b[32m121.6/121.6 MB\u001b[0m \u001b[31m5.6 MB/s\u001b[0m eta \u001b[36m0:00:00\u001b[0m0m eta \u001b[36m0:00:01\u001b[0m[36m0:00:01\u001b[0m\n",
      "\u001b[?25hDownloading nvidia_curand_cu12-10.3.2.106-py3-none-manylinux1_x86_64.whl (56.5 MB)\n",
      "\u001b[2K   \u001b[38;2;114;156;31m━━━━━━━━━━━━━━━━━━━━━━━━━━━━━━━━━━━━━━━━\u001b[0m \u001b[32m56.5/56.5 MB\u001b[0m \u001b[31m8.4 MB/s\u001b[0m eta \u001b[36m0:00:00\u001b[0m0m eta \u001b[36m0:00:01\u001b[0m[36m0:00:01\u001b[0m\n",
      "\u001b[?25hDownloading nvidia_cusolver_cu12-11.4.5.107-py3-none-manylinux1_x86_64.whl (124.2 MB)\n",
      "\u001b[2K   \u001b[38;2;114;156;31m━━━━━━━━━━━━━━━━━━━━━━━━━━━━━━━━━━━━━━━━\u001b[0m \u001b[32m124.2/124.2 MB\u001b[0m \u001b[31m4.9 MB/s\u001b[0m eta \u001b[36m0:00:00\u001b[0m0m eta \u001b[36m0:00:01\u001b[0m[36m0:00:01\u001b[0m\n",
      "\u001b[?25hDownloading nvidia_cusparse_cu12-12.1.0.106-py3-none-manylinux1_x86_64.whl (196.0 MB)\n",
      "\u001b[2K   \u001b[38;2;114;156;31m━━━━━━━━━━━━━━━━━━━━━━━━━━━━━━━━━━━━━━━━\u001b[0m \u001b[32m196.0/196.0 MB\u001b[0m \u001b[31m1.7 MB/s\u001b[0m eta \u001b[36m0:00:00\u001b[0m0m eta \u001b[36m0:00:01\u001b[0m[36m0:00:01\u001b[0m\n",
      "\u001b[?25hDownloading nvidia_nccl_cu12-2.19.3-py3-none-manylinux1_x86_64.whl (166.0 MB)\n",
      "\u001b[2K   \u001b[38;2;114;156;31m━━━━━━━━━━━━━━━━━━━━━━━━━━━━━━━━━━━━━━━━\u001b[0m \u001b[32m166.0/166.0 MB\u001b[0m \u001b[31m4.4 MB/s\u001b[0m eta \u001b[36m0:00:00\u001b[0m0m eta \u001b[36m0:00:01\u001b[0m[36m0:00:01\u001b[0m\n",
      "\u001b[?25hDownloading nvidia_nvtx_cu12-12.1.105-py3-none-manylinux1_x86_64.whl (99 kB)\n",
      "\u001b[2K   \u001b[38;2;114;156;31m━━━━━━━━━━━━━━━━━━━━━━━━━━━━━━━━━━━━━━━━\u001b[0m \u001b[32m99.1/99.1 kB\u001b[0m \u001b[31m1.8 MB/s\u001b[0m eta \u001b[36m0:00:00\u001b[0m.3 MB/s\u001b[0m eta \u001b[36m0:00:01\u001b[0m\n",
      "\u001b[?25hDownloading triton-2.2.0-cp311-cp311-manylinux_2_17_x86_64.manylinux2014_x86_64.whl (167.9 MB)\n",
      "\u001b[2K   \u001b[38;2;114;156;31m━━━━━━━━━━━━━━━━━━━━━━━━━━━━━━━━━━━━━━━━\u001b[0m \u001b[32m167.9/167.9 MB\u001b[0m \u001b[31m3.9 MB/s\u001b[0m eta \u001b[36m0:00:00\u001b[0m0m eta \u001b[36m0:00:01\u001b[0m[36m0:00:01\u001b[0m\n",
      "\u001b[?25hDownloading typing_extensions-4.11.0-py3-none-any.whl (34 kB)\n",
      "Downloading nvidia_nvjitlink_cu12-12.4.127-py3-none-manylinux2014_x86_64.whl (21.1 MB)\n",
      "\u001b[2K   \u001b[38;2;114;156;31m━━━━━━━━━━━━━━━━━━━━━━━━━━━━━━━━━━━━━━━━\u001b[0m \u001b[32m21.1/21.1 MB\u001b[0m \u001b[31m10.7 MB/s\u001b[0m eta \u001b[36m0:00:00\u001b[0mm eta \u001b[36m0:00:01\u001b[0m0:01\u001b[0m:01\u001b[0m\n",
      "\u001b[?25hInstalling collected packages: typing-extensions, triton, nvidia-nvtx-cu12, nvidia-nvjitlink-cu12, nvidia-nccl-cu12, nvidia-curand-cu12, nvidia-cufft-cu12, nvidia-cuda-runtime-cu12, nvidia-cuda-nvrtc-cu12, nvidia-cuda-cupti-cu12, nvidia-cublas-cu12, nvidia-cusparse-cu12, nvidia-cudnn-cu12, rdt, nvidia-cusolver-cu12, torch, ctgan\n",
      "  Attempting uninstall: typing-extensions\n",
      "    Found existing installation: typing_extensions 4.7.1\n",
      "    Uninstalling typing_extensions-4.7.1:\n",
      "      Successfully uninstalled typing_extensions-4.7.1\n",
      "Successfully installed ctgan-0.10.0 nvidia-cublas-cu12-12.1.3.1 nvidia-cuda-cupti-cu12-12.1.105 nvidia-cuda-nvrtc-cu12-12.1.105 nvidia-cuda-runtime-cu12-12.1.105 nvidia-cudnn-cu12-8.9.2.26 nvidia-cufft-cu12-11.0.2.54 nvidia-curand-cu12-10.3.2.106 nvidia-cusolver-cu12-11.4.5.107 nvidia-cusparse-cu12-12.1.0.106 nvidia-nccl-cu12-2.19.3 nvidia-nvjitlink-cu12-12.4.127 nvidia-nvtx-cu12-12.1.105 rdt-1.11.0 torch-2.2.2 triton-2.2.0 typing-extensions-4.11.0\n",
      "Note: you may need to restart the kernel to use updated packages.\n"
     ]
    }
   ],
   "source": [
    "pip install ctgan\n"
   ]
  },
  {
   "cell_type": "code",
   "execution_count": 36,
   "id": "d9701ab2-ce5f-4def-9dd0-7aea59599b32",
   "metadata": {
    "tags": []
   },
   "outputs": [
    {
     "name": "stdout",
     "output_type": "stream",
     "text": [
      "Collecting tabgan\n",
      "  Obtaining dependency information for tabgan from https://files.pythonhosted.org/packages/f0/28/2bc2b90e2cf574d6d27f7ebe8dd1d29a84f4d97b71443bfcbbb7ba5e1773/tabgan-2.0.5-py2.py3-none-any.whl.metadata\n",
      "  Downloading tabgan-2.0.5-py2.py3-none-any.whl.metadata (10 kB)\n",
      "Requirement already satisfied: pandas in ./anaconda3/lib/python3.11/site-packages (from tabgan) (2.0.3)\n",
      "Requirement already satisfied: numpy in ./anaconda3/lib/python3.11/site-packages (from tabgan) (1.24.4)\n",
      "Collecting category-encoders (from tabgan)\n",
      "  Obtaining dependency information for category-encoders from https://files.pythonhosted.org/packages/7f/e5/79a62e5c9c9ddbfa9ff5222240d408c1eeea4e38741a0dc8343edc7ef1ec/category_encoders-2.6.3-py2.py3-none-any.whl.metadata\n",
      "  Downloading category_encoders-2.6.3-py2.py3-none-any.whl.metadata (8.0 kB)\n",
      "Requirement already satisfied: torch>=1.0 in ./anaconda3/lib/python3.11/site-packages (from tabgan) (2.2.2)\n",
      "Collecting lightgbm>=2.2.3 (from tabgan)\n",
      "  Obtaining dependency information for lightgbm>=2.2.3 from https://files.pythonhosted.org/packages/ba/11/cb8b67f3cbdca05b59a032bb57963d4fe8c8d18c3870f30bed005b7f174d/lightgbm-4.3.0-py3-none-manylinux_2_28_x86_64.whl.metadata\n",
      "  Downloading lightgbm-4.3.0-py3-none-manylinux_2_28_x86_64.whl.metadata (19 kB)\n",
      "Requirement already satisfied: scikit-learn>=1.0.2 in ./anaconda3/lib/python3.11/site-packages (from tabgan) (1.3.0)\n",
      "Collecting torchvision (from tabgan)\n",
      "  Obtaining dependency information for torchvision from https://files.pythonhosted.org/packages/68/49/5e1c771294407bb25e6dbcf169aef5cffefcddf27b0176125a9b0af06a1e/torchvision-0.17.2-cp311-cp311-manylinux1_x86_64.whl.metadata\n",
      "  Downloading torchvision-0.17.2-cp311-cp311-manylinux1_x86_64.whl.metadata (6.6 kB)\n",
      "Requirement already satisfied: python-dateutil in ./anaconda3/lib/python3.11/site-packages (from tabgan) (2.8.2)\n",
      "Requirement already satisfied: tqdm in ./anaconda3/lib/python3.11/site-packages (from tabgan) (4.65.0)\n",
      "Collecting catboost (from tabgan)\n",
      "  Obtaining dependency information for catboost from https://files.pythonhosted.org/packages/f6/6b/8724adcfa5a8cb816f09c41fb30772d14699b948e4462a7afd24613117fb/catboost-1.2.3-cp311-cp311-manylinux2014_x86_64.whl.metadata\n",
      "  Downloading catboost-1.2.3-cp311-cp311-manylinux2014_x86_64.whl.metadata (1.2 kB)\n",
      "Collecting xgboost (from tabgan)\n",
      "  Obtaining dependency information for xgboost from https://files.pythonhosted.org/packages/c3/eb/496aa2f5d356af4185f770bc76055307f8d1870e11016b10fd779b21769c/xgboost-2.0.3-py3-none-manylinux2014_x86_64.whl.metadata\n",
      "  Downloading xgboost-2.0.3-py3-none-manylinux2014_x86_64.whl.metadata (2.0 kB)\n",
      "Requirement already satisfied: scipy in ./anaconda3/lib/python3.11/site-packages (from lightgbm>=2.2.3->tabgan) (1.11.1)\n",
      "Requirement already satisfied: joblib>=1.1.1 in ./anaconda3/lib/python3.11/site-packages (from scikit-learn>=1.0.2->tabgan) (1.2.0)\n",
      "Requirement already satisfied: threadpoolctl>=2.0.0 in ./anaconda3/lib/python3.11/site-packages (from scikit-learn>=1.0.2->tabgan) (2.2.0)\n",
      "Requirement already satisfied: filelock in ./anaconda3/lib/python3.11/site-packages (from torch>=1.0->tabgan) (3.13.1)\n",
      "Requirement already satisfied: typing-extensions>=4.8.0 in ./anaconda3/lib/python3.11/site-packages (from torch>=1.0->tabgan) (4.11.0)\n",
      "Requirement already satisfied: sympy in ./anaconda3/lib/python3.11/site-packages (from torch>=1.0->tabgan) (1.11.1)\n",
      "Requirement already satisfied: networkx in ./anaconda3/lib/python3.11/site-packages (from torch>=1.0->tabgan) (3.1)\n",
      "Requirement already satisfied: jinja2 in ./anaconda3/lib/python3.11/site-packages (from torch>=1.0->tabgan) (3.1.2)\n",
      "Requirement already satisfied: fsspec in ./anaconda3/lib/python3.11/site-packages (from torch>=1.0->tabgan) (2023.4.0)\n",
      "Requirement already satisfied: nvidia-cuda-nvrtc-cu12==12.1.105 in ./anaconda3/lib/python3.11/site-packages (from torch>=1.0->tabgan) (12.1.105)\n",
      "Requirement already satisfied: nvidia-cuda-runtime-cu12==12.1.105 in ./anaconda3/lib/python3.11/site-packages (from torch>=1.0->tabgan) (12.1.105)\n",
      "Requirement already satisfied: nvidia-cuda-cupti-cu12==12.1.105 in ./anaconda3/lib/python3.11/site-packages (from torch>=1.0->tabgan) (12.1.105)\n",
      "Requirement already satisfied: nvidia-cudnn-cu12==8.9.2.26 in ./anaconda3/lib/python3.11/site-packages (from torch>=1.0->tabgan) (8.9.2.26)\n",
      "Requirement already satisfied: nvidia-cublas-cu12==12.1.3.1 in ./anaconda3/lib/python3.11/site-packages (from torch>=1.0->tabgan) (12.1.3.1)\n",
      "Requirement already satisfied: nvidia-cufft-cu12==11.0.2.54 in ./anaconda3/lib/python3.11/site-packages (from torch>=1.0->tabgan) (11.0.2.54)\n",
      "Requirement already satisfied: nvidia-curand-cu12==10.3.2.106 in ./anaconda3/lib/python3.11/site-packages (from torch>=1.0->tabgan) (10.3.2.106)\n",
      "Requirement already satisfied: nvidia-cusolver-cu12==11.4.5.107 in ./anaconda3/lib/python3.11/site-packages (from torch>=1.0->tabgan) (11.4.5.107)\n",
      "Requirement already satisfied: nvidia-cusparse-cu12==12.1.0.106 in ./anaconda3/lib/python3.11/site-packages (from torch>=1.0->tabgan) (12.1.0.106)\n",
      "Requirement already satisfied: nvidia-nccl-cu12==2.19.3 in ./anaconda3/lib/python3.11/site-packages (from torch>=1.0->tabgan) (2.19.3)\n",
      "Requirement already satisfied: nvidia-nvtx-cu12==12.1.105 in ./anaconda3/lib/python3.11/site-packages (from torch>=1.0->tabgan) (12.1.105)\n",
      "Requirement already satisfied: triton==2.2.0 in ./anaconda3/lib/python3.11/site-packages (from torch>=1.0->tabgan) (2.2.0)\n",
      "Requirement already satisfied: nvidia-nvjitlink-cu12 in ./anaconda3/lib/python3.11/site-packages (from nvidia-cusolver-cu12==11.4.5.107->torch>=1.0->tabgan) (12.4.127)\n",
      "Collecting graphviz (from catboost->tabgan)\n",
      "  Obtaining dependency information for graphviz from https://files.pythonhosted.org/packages/00/be/d59db2d1d52697c6adc9eacaf50e8965b6345cc143f671e1ed068818d5cf/graphviz-0.20.3-py3-none-any.whl.metadata\n",
      "  Downloading graphviz-0.20.3-py3-none-any.whl.metadata (12 kB)\n",
      "Requirement already satisfied: matplotlib in ./anaconda3/lib/python3.11/site-packages (from catboost->tabgan) (3.7.2)\n",
      "Requirement already satisfied: plotly in ./anaconda3/lib/python3.11/site-packages (from catboost->tabgan) (5.9.0)\n",
      "Requirement already satisfied: six in ./anaconda3/lib/python3.11/site-packages (from catboost->tabgan) (1.16.0)\n",
      "Requirement already satisfied: pytz>=2020.1 in ./anaconda3/lib/python3.11/site-packages (from pandas->tabgan) (2023.3.post1)\n",
      "Requirement already satisfied: tzdata>=2022.1 in ./anaconda3/lib/python3.11/site-packages (from pandas->tabgan) (2023.3)\n",
      "Requirement already satisfied: statsmodels>=0.9.0 in ./anaconda3/lib/python3.11/site-packages (from category-encoders->tabgan) (0.14.0)\n",
      "Requirement already satisfied: patsy>=0.5.1 in ./anaconda3/lib/python3.11/site-packages (from category-encoders->tabgan) (0.5.3)\n",
      "Requirement already satisfied: pillow!=8.3.*,>=5.3.0 in ./anaconda3/lib/python3.11/site-packages (from torchvision->tabgan) (9.4.0)\n",
      "Requirement already satisfied: packaging>=21.3 in ./anaconda3/lib/python3.11/site-packages (from statsmodels>=0.9.0->category-encoders->tabgan) (23.2)\n",
      "Requirement already satisfied: MarkupSafe>=2.0 in ./anaconda3/lib/python3.11/site-packages (from jinja2->torch>=1.0->tabgan) (2.1.1)\n",
      "Requirement already satisfied: contourpy>=1.0.1 in ./anaconda3/lib/python3.11/site-packages (from matplotlib->catboost->tabgan) (1.0.5)\n",
      "Requirement already satisfied: cycler>=0.10 in ./anaconda3/lib/python3.11/site-packages (from matplotlib->catboost->tabgan) (0.11.0)\n",
      "Requirement already satisfied: fonttools>=4.22.0 in ./anaconda3/lib/python3.11/site-packages (from matplotlib->catboost->tabgan) (4.25.0)\n",
      "Requirement already satisfied: kiwisolver>=1.0.1 in ./anaconda3/lib/python3.11/site-packages (from matplotlib->catboost->tabgan) (1.4.4)\n",
      "Requirement already satisfied: pyparsing<3.1,>=2.3.1 in ./anaconda3/lib/python3.11/site-packages (from matplotlib->catboost->tabgan) (3.0.9)\n",
      "Requirement already satisfied: tenacity>=6.2.0 in ./anaconda3/lib/python3.11/site-packages (from plotly->catboost->tabgan) (8.2.2)\n",
      "Requirement already satisfied: mpmath>=0.19 in ./anaconda3/lib/python3.11/site-packages (from sympy->torch>=1.0->tabgan) (1.3.0)\n",
      "Downloading tabgan-2.0.5-py2.py3-none-any.whl (37 kB)\n",
      "Downloading lightgbm-4.3.0-py3-none-manylinux_2_28_x86_64.whl (3.1 MB)\n",
      "\u001b[2K   \u001b[38;2;114;156;31m━━━━━━━━━━━━━━━━━━━━━━━━━━━━━━━━━━━━━━━━\u001b[0m \u001b[32m3.1/3.1 MB\u001b[0m \u001b[31m8.6 MB/s\u001b[0m eta \u001b[36m0:00:00\u001b[0m0m eta \u001b[36m0:00:01\u001b[0m[36m0:00:01\u001b[0m\n",
      "\u001b[?25hDownloading catboost-1.2.3-cp311-cp311-manylinux2014_x86_64.whl (98.5 MB)\n",
      "\u001b[2K   \u001b[38;2;114;156;31m━━━━━━━━━━━━━━━━━━━━━━━━━━━━━━━━━━━━━━━━\u001b[0m \u001b[32m98.5/98.5 MB\u001b[0m \u001b[31m4.9 MB/s\u001b[0m eta \u001b[36m0:00:00\u001b[0m0m eta \u001b[36m0:00:01\u001b[0m[36m0:00:01\u001b[0m\n",
      "\u001b[?25hDownloading category_encoders-2.6.3-py2.py3-none-any.whl (81 kB)\n",
      "\u001b[2K   \u001b[38;2;114;156;31m━━━━━━━━━━━━━━━━━━━━━━━━━━━━━━━━━━━━━━━━\u001b[0m \u001b[32m81.9/81.9 kB\u001b[0m \u001b[31m1.6 MB/s\u001b[0m eta \u001b[36m0:00:00\u001b[0m.8 MB/s\u001b[0m eta \u001b[36m0:00:01\u001b[0m\n",
      "\u001b[?25hDownloading torchvision-0.17.2-cp311-cp311-manylinux1_x86_64.whl (6.9 MB)\n",
      "\u001b[2K   \u001b[38;2;114;156;31m━━━━━━━━━━━━━━━━━━━━━━━━━━━━━━━━━━━━━━━━\u001b[0m \u001b[32m6.9/6.9 MB\u001b[0m \u001b[31m13.5 MB/s\u001b[0m eta \u001b[36m0:00:00\u001b[0mm eta \u001b[36m0:00:01\u001b[0m0:01\u001b[0m:01\u001b[0m\n",
      "\u001b[?25hDownloading xgboost-2.0.3-py3-none-manylinux2014_x86_64.whl (297.1 MB)\n",
      "\u001b[2K   \u001b[38;2;114;156;31m━━━━━━━━━━━━━━━━━━━━━━━━━━━━━━━━━━━━━━━━\u001b[0m \u001b[32m297.1/297.1 MB\u001b[0m \u001b[31m1.7 MB/s\u001b[0m eta \u001b[36m0:00:00\u001b[0m0m eta \u001b[36m0:00:01\u001b[0m[36m0:00:01\u001b[0m\n",
      "\u001b[?25hDownloading graphviz-0.20.3-py3-none-any.whl (47 kB)\n",
      "\u001b[2K   \u001b[38;2;114;156;31m━━━━━━━━━━━━━━━━━━━━━━━━━━━━━━━━━━━━━━━━\u001b[0m \u001b[32m47.1/47.1 kB\u001b[0m \u001b[31m748.9 kB/s\u001b[0m eta \u001b[36m0:00:00\u001b[0m1m119.6 MB/s\u001b[0m eta \u001b[36m0:00:01\u001b[0m\n",
      "\u001b[?25hInstalling collected packages: graphviz, xgboost, lightgbm, catboost, torchvision, category-encoders, tabgan\n",
      "Successfully installed catboost-1.2.3 category-encoders-2.6.3 graphviz-0.20.3 lightgbm-4.3.0 tabgan-2.0.5 torchvision-0.17.2 xgboost-2.0.3\n",
      "Note: you may need to restart the kernel to use updated packages.\n"
     ]
    }
   ],
   "source": [
    "pip install tabgan"
   ]
  },
  {
   "cell_type": "code",
   "execution_count": 37,
   "id": "5d0cb0f2-e99d-4ea4-a02f-607365a642bd",
   "metadata": {
    "tags": []
   },
   "outputs": [
    {
     "name": "stdout",
     "output_type": "stream",
     "text": [
      "Requirement already satisfied: sdv in ./anaconda3/lib/python3.11/site-packages (1.11.0)\n",
      "Requirement already satisfied: boto3<2,>=1.15.0 in ./anaconda3/lib/python3.11/site-packages (from sdv) (1.34.84)\n",
      "Requirement already satisfied: botocore<2,>=1.18 in ./anaconda3/lib/python3.11/site-packages (from sdv) (1.34.84)\n",
      "Requirement already satisfied: cloudpickle<3.0,>=2.1.0 in ./anaconda3/lib/python3.11/site-packages (from sdv) (2.2.1)\n",
      "Requirement already satisfied: graphviz<1,>=0.13.2 in ./anaconda3/lib/python3.11/site-packages (from sdv) (0.20.3)\n",
      "Requirement already satisfied: tqdm<5,>=4.15 in ./anaconda3/lib/python3.11/site-packages (from sdv) (4.65.0)\n",
      "Requirement already satisfied: copulas<0.10,>=0.9.0 in ./anaconda3/lib/python3.11/site-packages (from sdv) (0.9.2)\n",
      "Requirement already satisfied: ctgan<0.10,>=0.9.0 in ./anaconda3/lib/python3.11/site-packages (from sdv) (0.9.1)\n",
      "Requirement already satisfied: deepecho<0.6,>=0.5 in ./anaconda3/lib/python3.11/site-packages (from sdv) (0.5.0)\n",
      "Requirement already satisfied: rdt<2,>=1.10.0 in ./anaconda3/lib/python3.11/site-packages (from sdv) (1.11.0)\n",
      "Requirement already satisfied: sdmetrics<0.14,>=0.13.0 in ./anaconda3/lib/python3.11/site-packages (from sdv) (0.13.0)\n",
      "Requirement already satisfied: numpy<2,>=1.23.3 in ./anaconda3/lib/python3.11/site-packages (from sdv) (1.24.4)\n",
      "Requirement already satisfied: pandas>=1.5.0 in ./anaconda3/lib/python3.11/site-packages (from sdv) (2.0.3)\n",
      "Requirement already satisfied: jmespath<2.0.0,>=0.7.1 in ./anaconda3/lib/python3.11/site-packages (from boto3<2,>=1.15.0->sdv) (0.10.0)\n",
      "Requirement already satisfied: s3transfer<0.11.0,>=0.10.0 in ./anaconda3/lib/python3.11/site-packages (from boto3<2,>=1.15.0->sdv) (0.10.1)\n",
      "Requirement already satisfied: python-dateutil<3.0.0,>=2.1 in ./anaconda3/lib/python3.11/site-packages (from botocore<2,>=1.18->sdv) (2.8.2)\n",
      "Requirement already satisfied: urllib3!=2.2.0,<3,>=1.25.4 in ./anaconda3/lib/python3.11/site-packages (from botocore<2,>=1.18->sdv) (1.26.16)\n",
      "Requirement already satisfied: matplotlib<4,>=3.6.0 in ./anaconda3/lib/python3.11/site-packages (from copulas<0.10,>=0.9.0->sdv) (3.7.2)\n",
      "Requirement already satisfied: scipy<2,>=1.9.2 in ./anaconda3/lib/python3.11/site-packages (from copulas<0.10,>=0.9.0->sdv) (1.11.1)\n",
      "Requirement already satisfied: scikit-learn>=1.1.3 in ./anaconda3/lib/python3.11/site-packages (from ctgan<0.10,>=0.9.0->sdv) (1.3.0)\n",
      "Requirement already satisfied: torch>=2.0.0 in ./anaconda3/lib/python3.11/site-packages (from ctgan<0.10,>=0.9.0->sdv) (2.2.2)\n",
      "Requirement already satisfied: pytz>=2020.1 in ./anaconda3/lib/python3.11/site-packages (from pandas>=1.5.0->sdv) (2023.3.post1)\n",
      "Requirement already satisfied: tzdata>=2022.1 in ./anaconda3/lib/python3.11/site-packages (from pandas>=1.5.0->sdv) (2023.3)\n",
      "Requirement already satisfied: Faker>=17 in ./anaconda3/lib/python3.11/site-packages (from rdt<2,>=1.10.0->sdv) (23.3.0)\n",
      "Requirement already satisfied: plotly<6,>=5.10.0 in ./anaconda3/lib/python3.11/site-packages (from sdmetrics<0.14,>=0.13.0->sdv) (5.20.0)\n",
      "Requirement already satisfied: contourpy>=1.0.1 in ./anaconda3/lib/python3.11/site-packages (from matplotlib<4,>=3.6.0->copulas<0.10,>=0.9.0->sdv) (1.0.5)\n",
      "Requirement already satisfied: cycler>=0.10 in ./anaconda3/lib/python3.11/site-packages (from matplotlib<4,>=3.6.0->copulas<0.10,>=0.9.0->sdv) (0.11.0)\n",
      "Requirement already satisfied: fonttools>=4.22.0 in ./anaconda3/lib/python3.11/site-packages (from matplotlib<4,>=3.6.0->copulas<0.10,>=0.9.0->sdv) (4.25.0)\n",
      "Requirement already satisfied: kiwisolver>=1.0.1 in ./anaconda3/lib/python3.11/site-packages (from matplotlib<4,>=3.6.0->copulas<0.10,>=0.9.0->sdv) (1.4.4)\n",
      "Requirement already satisfied: packaging>=20.0 in ./anaconda3/lib/python3.11/site-packages (from matplotlib<4,>=3.6.0->copulas<0.10,>=0.9.0->sdv) (23.2)\n",
      "Requirement already satisfied: pillow>=6.2.0 in ./anaconda3/lib/python3.11/site-packages (from matplotlib<4,>=3.6.0->copulas<0.10,>=0.9.0->sdv) (9.4.0)\n",
      "Requirement already satisfied: pyparsing<3.1,>=2.3.1 in ./anaconda3/lib/python3.11/site-packages (from matplotlib<4,>=3.6.0->copulas<0.10,>=0.9.0->sdv) (3.0.9)\n",
      "Requirement already satisfied: tenacity>=6.2.0 in ./anaconda3/lib/python3.11/site-packages (from plotly<6,>=5.10.0->sdmetrics<0.14,>=0.13.0->sdv) (8.2.2)\n",
      "Requirement already satisfied: six>=1.5 in ./anaconda3/lib/python3.11/site-packages (from python-dateutil<3.0.0,>=2.1->botocore<2,>=1.18->sdv) (1.16.0)\n",
      "Requirement already satisfied: joblib>=1.1.1 in ./anaconda3/lib/python3.11/site-packages (from scikit-learn>=1.1.3->ctgan<0.10,>=0.9.0->sdv) (1.2.0)\n",
      "Requirement already satisfied: threadpoolctl>=2.0.0 in ./anaconda3/lib/python3.11/site-packages (from scikit-learn>=1.1.3->ctgan<0.10,>=0.9.0->sdv) (2.2.0)\n",
      "Requirement already satisfied: filelock in ./anaconda3/lib/python3.11/site-packages (from torch>=2.0.0->ctgan<0.10,>=0.9.0->sdv) (3.13.1)\n",
      "Requirement already satisfied: typing-extensions>=4.8.0 in ./anaconda3/lib/python3.11/site-packages (from torch>=2.0.0->ctgan<0.10,>=0.9.0->sdv) (4.11.0)\n",
      "Requirement already satisfied: sympy in ./anaconda3/lib/python3.11/site-packages (from torch>=2.0.0->ctgan<0.10,>=0.9.0->sdv) (1.11.1)\n",
      "Requirement already satisfied: networkx in ./anaconda3/lib/python3.11/site-packages (from torch>=2.0.0->ctgan<0.10,>=0.9.0->sdv) (3.1)\n",
      "Requirement already satisfied: jinja2 in ./anaconda3/lib/python3.11/site-packages (from torch>=2.0.0->ctgan<0.10,>=0.9.0->sdv) (3.1.2)\n",
      "Requirement already satisfied: fsspec in ./anaconda3/lib/python3.11/site-packages (from torch>=2.0.0->ctgan<0.10,>=0.9.0->sdv) (2023.4.0)\n",
      "Requirement already satisfied: nvidia-cuda-nvrtc-cu12==12.1.105 in ./anaconda3/lib/python3.11/site-packages (from torch>=2.0.0->ctgan<0.10,>=0.9.0->sdv) (12.1.105)\n",
      "Requirement already satisfied: nvidia-cuda-runtime-cu12==12.1.105 in ./anaconda3/lib/python3.11/site-packages (from torch>=2.0.0->ctgan<0.10,>=0.9.0->sdv) (12.1.105)\n",
      "Requirement already satisfied: nvidia-cuda-cupti-cu12==12.1.105 in ./anaconda3/lib/python3.11/site-packages (from torch>=2.0.0->ctgan<0.10,>=0.9.0->sdv) (12.1.105)\n",
      "Requirement already satisfied: nvidia-cudnn-cu12==8.9.2.26 in ./anaconda3/lib/python3.11/site-packages (from torch>=2.0.0->ctgan<0.10,>=0.9.0->sdv) (8.9.2.26)\n",
      "Requirement already satisfied: nvidia-cublas-cu12==12.1.3.1 in ./anaconda3/lib/python3.11/site-packages (from torch>=2.0.0->ctgan<0.10,>=0.9.0->sdv) (12.1.3.1)\n",
      "Requirement already satisfied: nvidia-cufft-cu12==11.0.2.54 in ./anaconda3/lib/python3.11/site-packages (from torch>=2.0.0->ctgan<0.10,>=0.9.0->sdv) (11.0.2.54)\n",
      "Requirement already satisfied: nvidia-curand-cu12==10.3.2.106 in ./anaconda3/lib/python3.11/site-packages (from torch>=2.0.0->ctgan<0.10,>=0.9.0->sdv) (10.3.2.106)\n",
      "Requirement already satisfied: nvidia-cusolver-cu12==11.4.5.107 in ./anaconda3/lib/python3.11/site-packages (from torch>=2.0.0->ctgan<0.10,>=0.9.0->sdv) (11.4.5.107)\n",
      "Requirement already satisfied: nvidia-cusparse-cu12==12.1.0.106 in ./anaconda3/lib/python3.11/site-packages (from torch>=2.0.0->ctgan<0.10,>=0.9.0->sdv) (12.1.0.106)\n",
      "Requirement already satisfied: nvidia-nccl-cu12==2.19.3 in ./anaconda3/lib/python3.11/site-packages (from torch>=2.0.0->ctgan<0.10,>=0.9.0->sdv) (2.19.3)\n",
      "Requirement already satisfied: nvidia-nvtx-cu12==12.1.105 in ./anaconda3/lib/python3.11/site-packages (from torch>=2.0.0->ctgan<0.10,>=0.9.0->sdv) (12.1.105)\n",
      "Requirement already satisfied: triton==2.2.0 in ./anaconda3/lib/python3.11/site-packages (from torch>=2.0.0->ctgan<0.10,>=0.9.0->sdv) (2.2.0)\n",
      "Requirement already satisfied: nvidia-nvjitlink-cu12 in ./anaconda3/lib/python3.11/site-packages (from nvidia-cusolver-cu12==11.4.5.107->torch>=2.0.0->ctgan<0.10,>=0.9.0->sdv) (12.4.127)\n",
      "Requirement already satisfied: MarkupSafe>=2.0 in ./anaconda3/lib/python3.11/site-packages (from jinja2->torch>=2.0.0->ctgan<0.10,>=0.9.0->sdv) (2.1.1)\n",
      "Requirement already satisfied: mpmath>=0.19 in ./anaconda3/lib/python3.11/site-packages (from sympy->torch>=2.0.0->ctgan<0.10,>=0.9.0->sdv) (1.3.0)\n",
      "Note: you may need to restart the kernel to use updated packages.\n"
     ]
    }
   ],
   "source": [
    "pip install sdv\n"
   ]
  },
  {
   "cell_type": "code",
   "execution_count": 41,
   "id": "edff2591-f4c4-4db4-8320-4691f89bfd01",
   "metadata": {
    "tags": []
   },
   "outputs": [
    {
     "name": "stdout",
     "output_type": "stream",
     "text": [
      "Requirement already satisfied: sdv in ./anaconda3/lib/python3.11/site-packages (1.11.0)\n",
      "Requirement already satisfied: boto3<2,>=1.15.0 in ./anaconda3/lib/python3.11/site-packages (from sdv) (1.34.84)\n",
      "Requirement already satisfied: botocore<2,>=1.18 in ./anaconda3/lib/python3.11/site-packages (from sdv) (1.34.84)\n",
      "Requirement already satisfied: cloudpickle<3.0,>=2.1.0 in ./anaconda3/lib/python3.11/site-packages (from sdv) (2.2.1)\n",
      "Requirement already satisfied: graphviz<1,>=0.13.2 in ./anaconda3/lib/python3.11/site-packages (from sdv) (0.20.3)\n",
      "Requirement already satisfied: tqdm<5,>=4.15 in ./anaconda3/lib/python3.11/site-packages (from sdv) (4.65.0)\n",
      "Requirement already satisfied: copulas<0.10,>=0.9.0 in ./anaconda3/lib/python3.11/site-packages (from sdv) (0.9.2)\n",
      "Requirement already satisfied: ctgan<0.10,>=0.9.0 in ./anaconda3/lib/python3.11/site-packages (from sdv) (0.9.1)\n",
      "Requirement already satisfied: deepecho<0.6,>=0.5 in ./anaconda3/lib/python3.11/site-packages (from sdv) (0.5.0)\n",
      "Requirement already satisfied: rdt<2,>=1.10.0 in ./anaconda3/lib/python3.11/site-packages (from sdv) (1.11.0)\n",
      "Requirement already satisfied: sdmetrics<0.14,>=0.13.0 in ./anaconda3/lib/python3.11/site-packages (from sdv) (0.13.0)\n",
      "Requirement already satisfied: numpy<2,>=1.23.3 in ./anaconda3/lib/python3.11/site-packages (from sdv) (1.24.4)\n",
      "Requirement already satisfied: pandas>=1.5.0 in ./anaconda3/lib/python3.11/site-packages (from sdv) (2.0.3)\n",
      "Requirement already satisfied: jmespath<2.0.0,>=0.7.1 in ./anaconda3/lib/python3.11/site-packages (from boto3<2,>=1.15.0->sdv) (0.10.0)\n",
      "Requirement already satisfied: s3transfer<0.11.0,>=0.10.0 in ./anaconda3/lib/python3.11/site-packages (from boto3<2,>=1.15.0->sdv) (0.10.1)\n",
      "Requirement already satisfied: python-dateutil<3.0.0,>=2.1 in ./anaconda3/lib/python3.11/site-packages (from botocore<2,>=1.18->sdv) (2.8.2)\n",
      "Requirement already satisfied: urllib3!=2.2.0,<3,>=1.25.4 in ./anaconda3/lib/python3.11/site-packages (from botocore<2,>=1.18->sdv) (1.26.16)\n",
      "Requirement already satisfied: matplotlib<4,>=3.6.0 in ./anaconda3/lib/python3.11/site-packages (from copulas<0.10,>=0.9.0->sdv) (3.7.2)\n",
      "Requirement already satisfied: scipy<2,>=1.9.2 in ./anaconda3/lib/python3.11/site-packages (from copulas<0.10,>=0.9.0->sdv) (1.11.1)\n",
      "Requirement already satisfied: scikit-learn>=1.1.3 in ./anaconda3/lib/python3.11/site-packages (from ctgan<0.10,>=0.9.0->sdv) (1.3.0)\n",
      "Requirement already satisfied: torch>=2.0.0 in ./anaconda3/lib/python3.11/site-packages (from ctgan<0.10,>=0.9.0->sdv) (2.2.2)\n",
      "Requirement already satisfied: pytz>=2020.1 in ./anaconda3/lib/python3.11/site-packages (from pandas>=1.5.0->sdv) (2023.3.post1)\n",
      "Requirement already satisfied: tzdata>=2022.1 in ./anaconda3/lib/python3.11/site-packages (from pandas>=1.5.0->sdv) (2023.3)\n",
      "Requirement already satisfied: Faker>=17 in ./anaconda3/lib/python3.11/site-packages (from rdt<2,>=1.10.0->sdv) (23.3.0)\n",
      "Requirement already satisfied: plotly<6,>=5.10.0 in ./anaconda3/lib/python3.11/site-packages (from sdmetrics<0.14,>=0.13.0->sdv) (5.20.0)\n",
      "Requirement already satisfied: contourpy>=1.0.1 in ./anaconda3/lib/python3.11/site-packages (from matplotlib<4,>=3.6.0->copulas<0.10,>=0.9.0->sdv) (1.0.5)\n",
      "Requirement already satisfied: cycler>=0.10 in ./anaconda3/lib/python3.11/site-packages (from matplotlib<4,>=3.6.0->copulas<0.10,>=0.9.0->sdv) (0.11.0)\n",
      "Requirement already satisfied: fonttools>=4.22.0 in ./anaconda3/lib/python3.11/site-packages (from matplotlib<4,>=3.6.0->copulas<0.10,>=0.9.0->sdv) (4.25.0)\n",
      "Requirement already satisfied: kiwisolver>=1.0.1 in ./anaconda3/lib/python3.11/site-packages (from matplotlib<4,>=3.6.0->copulas<0.10,>=0.9.0->sdv) (1.4.4)\n",
      "Requirement already satisfied: packaging>=20.0 in ./anaconda3/lib/python3.11/site-packages (from matplotlib<4,>=3.6.0->copulas<0.10,>=0.9.0->sdv) (23.2)\n",
      "Requirement already satisfied: pillow>=6.2.0 in ./anaconda3/lib/python3.11/site-packages (from matplotlib<4,>=3.6.0->copulas<0.10,>=0.9.0->sdv) (9.4.0)\n",
      "Requirement already satisfied: pyparsing<3.1,>=2.3.1 in ./anaconda3/lib/python3.11/site-packages (from matplotlib<4,>=3.6.0->copulas<0.10,>=0.9.0->sdv) (3.0.9)\n",
      "Requirement already satisfied: tenacity>=6.2.0 in ./anaconda3/lib/python3.11/site-packages (from plotly<6,>=5.10.0->sdmetrics<0.14,>=0.13.0->sdv) (8.2.2)\n",
      "Requirement already satisfied: six>=1.5 in ./anaconda3/lib/python3.11/site-packages (from python-dateutil<3.0.0,>=2.1->botocore<2,>=1.18->sdv) (1.16.0)\n",
      "Requirement already satisfied: joblib>=1.1.1 in ./anaconda3/lib/python3.11/site-packages (from scikit-learn>=1.1.3->ctgan<0.10,>=0.9.0->sdv) (1.2.0)\n",
      "Requirement already satisfied: threadpoolctl>=2.0.0 in ./anaconda3/lib/python3.11/site-packages (from scikit-learn>=1.1.3->ctgan<0.10,>=0.9.0->sdv) (2.2.0)\n",
      "Requirement already satisfied: filelock in ./anaconda3/lib/python3.11/site-packages (from torch>=2.0.0->ctgan<0.10,>=0.9.0->sdv) (3.13.1)\n",
      "Requirement already satisfied: typing-extensions>=4.8.0 in ./anaconda3/lib/python3.11/site-packages (from torch>=2.0.0->ctgan<0.10,>=0.9.0->sdv) (4.11.0)\n",
      "Requirement already satisfied: sympy in ./anaconda3/lib/python3.11/site-packages (from torch>=2.0.0->ctgan<0.10,>=0.9.0->sdv) (1.11.1)\n",
      "Requirement already satisfied: networkx in ./anaconda3/lib/python3.11/site-packages (from torch>=2.0.0->ctgan<0.10,>=0.9.0->sdv) (3.1)\n",
      "Requirement already satisfied: jinja2 in ./anaconda3/lib/python3.11/site-packages (from torch>=2.0.0->ctgan<0.10,>=0.9.0->sdv) (3.1.2)\n",
      "Requirement already satisfied: fsspec in ./anaconda3/lib/python3.11/site-packages (from torch>=2.0.0->ctgan<0.10,>=0.9.0->sdv) (2023.4.0)\n",
      "Requirement already satisfied: nvidia-cuda-nvrtc-cu12==12.1.105 in ./anaconda3/lib/python3.11/site-packages (from torch>=2.0.0->ctgan<0.10,>=0.9.0->sdv) (12.1.105)\n",
      "Requirement already satisfied: nvidia-cuda-runtime-cu12==12.1.105 in ./anaconda3/lib/python3.11/site-packages (from torch>=2.0.0->ctgan<0.10,>=0.9.0->sdv) (12.1.105)\n",
      "Requirement already satisfied: nvidia-cuda-cupti-cu12==12.1.105 in ./anaconda3/lib/python3.11/site-packages (from torch>=2.0.0->ctgan<0.10,>=0.9.0->sdv) (12.1.105)\n",
      "Requirement already satisfied: nvidia-cudnn-cu12==8.9.2.26 in ./anaconda3/lib/python3.11/site-packages (from torch>=2.0.0->ctgan<0.10,>=0.9.0->sdv) (8.9.2.26)\n",
      "Requirement already satisfied: nvidia-cublas-cu12==12.1.3.1 in ./anaconda3/lib/python3.11/site-packages (from torch>=2.0.0->ctgan<0.10,>=0.9.0->sdv) (12.1.3.1)\n",
      "Requirement already satisfied: nvidia-cufft-cu12==11.0.2.54 in ./anaconda3/lib/python3.11/site-packages (from torch>=2.0.0->ctgan<0.10,>=0.9.0->sdv) (11.0.2.54)\n",
      "Requirement already satisfied: nvidia-curand-cu12==10.3.2.106 in ./anaconda3/lib/python3.11/site-packages (from torch>=2.0.0->ctgan<0.10,>=0.9.0->sdv) (10.3.2.106)\n",
      "Requirement already satisfied: nvidia-cusolver-cu12==11.4.5.107 in ./anaconda3/lib/python3.11/site-packages (from torch>=2.0.0->ctgan<0.10,>=0.9.0->sdv) (11.4.5.107)\n",
      "Requirement already satisfied: nvidia-cusparse-cu12==12.1.0.106 in ./anaconda3/lib/python3.11/site-packages (from torch>=2.0.0->ctgan<0.10,>=0.9.0->sdv) (12.1.0.106)\n",
      "Requirement already satisfied: nvidia-nccl-cu12==2.19.3 in ./anaconda3/lib/python3.11/site-packages (from torch>=2.0.0->ctgan<0.10,>=0.9.0->sdv) (2.19.3)\n",
      "Requirement already satisfied: nvidia-nvtx-cu12==12.1.105 in ./anaconda3/lib/python3.11/site-packages (from torch>=2.0.0->ctgan<0.10,>=0.9.0->sdv) (12.1.105)\n",
      "Requirement already satisfied: triton==2.2.0 in ./anaconda3/lib/python3.11/site-packages (from torch>=2.0.0->ctgan<0.10,>=0.9.0->sdv) (2.2.0)\n",
      "Requirement already satisfied: nvidia-nvjitlink-cu12 in ./anaconda3/lib/python3.11/site-packages (from nvidia-cusolver-cu12==11.4.5.107->torch>=2.0.0->ctgan<0.10,>=0.9.0->sdv) (12.4.127)\n",
      "Requirement already satisfied: MarkupSafe>=2.0 in ./anaconda3/lib/python3.11/site-packages (from jinja2->torch>=2.0.0->ctgan<0.10,>=0.9.0->sdv) (2.1.1)\n",
      "Requirement already satisfied: mpmath>=0.19 in ./anaconda3/lib/python3.11/site-packages (from sympy->torch>=2.0.0->ctgan<0.10,>=0.9.0->sdv) (1.3.0)\n",
      "Note: you may need to restart the kernel to use updated packages.\n"
     ]
    }
   ],
   "source": [
    "pip install --upgrade sdv"
   ]
  },
  {
   "cell_type": "code",
   "execution_count": 43,
   "id": "f6f2e53b-29e4-416f-b886-7647a69cc6c5",
   "metadata": {
    "tags": []
   },
   "outputs": [],
   "source": [
    "from sdv.datasets.demo import download_demo\n",
    "\n",
    "real_data, metadata = download_demo(\n",
    "    modality='single_table',\n",
    "    dataset_name='fake_hotel_guests')"
   ]
  },
  {
   "cell_type": "code",
   "execution_count": 44,
   "id": "8ed740ba-24bc-42c0-867c-3e804052d904",
   "metadata": {
    "tags": []
   },
   "outputs": [
    {
     "name": "stderr",
     "output_type": "stream",
     "text": [
      "/home/user1/anaconda3/lib/python3.11/site-packages/rdt/transformers/pii/anonymizer.py:118: FutureWarning: The 'enforce_uniqueness' parameter is no longer supported. Please use the 'cardinality_rule' parameter instead.\n",
      "  warnings.warn(\n"
     ]
    }
   ],
   "source": [
    "from sdv.lite import SingleTablePreset\n",
    "\n",
    "synthesizer = SingleTablePreset(metadata, name='FAST_ML')\n",
    "synthesizer.fit(data=real_data)"
   ]
  },
  {
   "cell_type": "code",
   "execution_count": 45,
   "id": "c2e21d13-61ee-4ee2-ad32-e9eb7a261983",
   "metadata": {
    "tags": []
   },
   "outputs": [],
   "source": [
    "synthetic_data = synthesizer.sample(num_rows=500)"
   ]
  },
  {
   "cell_type": "code",
   "execution_count": 46,
   "id": "c4c65a54-18d6-4b90-a480-1716ea6b5a1f",
   "metadata": {
    "tags": []
   },
   "outputs": [
    {
     "name": "stdout",
     "output_type": "stream",
     "text": [
      "Generating report ...\n",
      "(1/2) Evaluating Column Shapes: : 100%|██████████| 9/9 [00:00<00:00, 670.78it/s]\n",
      "(2/2) Evaluating Column Pair Trends: : 100%|████| 36/36 [00:00<00:00, 85.90it/s]\n",
      "\n",
      "Overall Score: 89.53%\n",
      "\n",
      "Properties:\n",
      "- Column Shapes: 91.76%\n",
      "- Column Pair Trends: 87.29%\n"
     ]
    }
   ],
   "source": [
    "from sdv.evaluation.single_table import evaluate_quality\n",
    "\n",
    "quality_report = evaluate_quality(\n",
    "    real_data,\n",
    "    synthetic_data,\n",
    "    metadata)"
   ]
  },
  {
   "cell_type": "raw",
   "id": "7625f127-0d60-43fc-ba37-81e22c05c8e9",
   "metadata": {},
   "source": [
    "pip install nbformat"
   ]
  },
  {
   "cell_type": "code",
   "execution_count": 47,
   "id": "6f3ad8b6-9060-4fc4-a34d-625eff83c2f3",
   "metadata": {
    "tags": []
   },
   "outputs": [
    {
     "data": {
      "text/html": [
       "<iframe\n",
       "    scrolling=\"no\"\n",
       "    width=\"100%\"\n",
       "    height=\"545px\"\n",
       "    src=\"iframe_figures/figure_47.html\"\n",
       "    frameborder=\"0\"\n",
       "    allowfullscreen\n",
       "></iframe>\n"
      ]
     },
     "metadata": {},
     "output_type": "display_data"
    }
   ],
   "source": [
    "from sdv.evaluation.single_table import get_column_plot\n",
    "\n",
    "fig = get_column_plot(\n",
    "    real_data=real_data,\n",
    "    synthetic_data=synthetic_data,\n",
    "    column_name='amenities_fee',\n",
    "    metadata=metadata\n",
    ")\n",
    "    \n",
    "fig.show()"
   ]
  },
  {
   "cell_type": "code",
   "execution_count": null,
   "id": "b77aae8e-b62f-460a-a55e-d0452c4a2d98",
   "metadata": {},
   "outputs": [],
   "source": []
  }
 ],
 "metadata": {
  "kernelspec": {
   "display_name": "Python 3 (ipykernel)",
   "language": "python",
   "name": "python3"
  },
  "language_info": {
   "codemirror_mode": {
    "name": "ipython",
    "version": 3
   },
   "file_extension": ".py",
   "mimetype": "text/x-python",
   "name": "python",
   "nbconvert_exporter": "python",
   "pygments_lexer": "ipython3",
   "version": "3.11.5"
  }
 },
 "nbformat": 4,
 "nbformat_minor": 5
}
